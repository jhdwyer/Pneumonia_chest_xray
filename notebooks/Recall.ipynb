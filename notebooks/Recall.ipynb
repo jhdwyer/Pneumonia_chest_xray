{
 "cells": [
  {
   "cell_type": "code",
   "execution_count": 1,
   "metadata": {},
   "outputs": [],
   "source": [
    "import os, shutil\n",
    "import time\n",
    "import matplotlib.pyplot as plt\n",
    "import scipy\n",
    "import numpy as np\n",
    "from PIL import Image\n",
    "from scipy import ndimage\n",
    "import tensorflow as tf\n",
    "from keras.preprocessing.image import ImageDataGenerator, array_to_img, img_to_array, load_img\n",
    "import pandas as pd\n",
    "from skimage.io import imread\n",
    "from keras import models\n",
    "from keras import layers\n",
    "import matplotlib.pyplot as plt\n",
    "%matplotlib inline"
   ]
  },
  {
   "cell_type": "code",
   "execution_count": 2,
   "metadata": {},
   "outputs": [],
   "source": [
    "train_folder = 'chest_xray/train'\n",
    "test_folder = 'chest_xray/val'\n",
    "val_folder = 'chest_xray/test'"
   ]
  },
  {
   "cell_type": "code",
   "execution_count": 123,
   "metadata": {},
   "outputs": [],
   "source": [
    "train_n_folder = 'chest_xray/chest_xray/train/NORMAL'\n",
    "train_p_folder = 'chest_xray/chest_xray/train/PNEUMONIA'\n",
    "test_n_folder = 'chest_xray/chest_xray/val/NORMAL'\n",
    "test_p_folder = 'chest_xray/chest_xray/val/PNEUMONIA'\n",
    "val_n_folder = 'chest_xray/chest_xray/test/NORMAL'\n",
    "val_p_folder = 'chest_xray/chest_xray/test/PNEUMONIA'"
   ]
  },
  {
   "cell_type": "markdown",
   "metadata": {},
   "source": [
    "Store all image names"
   ]
  },
  {
   "cell_type": "code",
   "execution_count": 4,
   "metadata": {},
   "outputs": [],
   "source": [
    "train_n = [file for file in os.listdir(train_n_folder) if file.endswith('.jpeg')]\n",
    "train_p = [file for file in os.listdir(train_p_folder) if file.endswith('.jpeg')]"
   ]
  },
  {
   "cell_type": "code",
   "execution_count": 5,
   "metadata": {},
   "outputs": [],
   "source": [
    "test_n = [file for file in os.listdir(test_n_folder) if file.endswith('.jpeg')]\n",
    "test_p = [file for file in os.listdir(test_p_folder) if file.endswith('.jpeg')]"
   ]
  },
  {
   "cell_type": "code",
   "execution_count": 6,
   "metadata": {},
   "outputs": [],
   "source": [
    "val_n = [file for file in os.listdir(val_n_folder) if file.endswith('.jpeg')]\n",
    "val_p = [file for file in os.listdir(val_p_folder) if file.endswith('.jpeg')]"
   ]
  },
  {
   "cell_type": "markdown",
   "metadata": {},
   "source": [
    "Image Processing"
   ]
  },
  {
   "cell_type": "code",
   "execution_count": 7,
   "metadata": {},
   "outputs": [
    {
     "data": {
      "text/plain": [
       "5216"
      ]
     },
     "execution_count": 7,
     "metadata": {},
     "output_type": "execute_result"
    }
   ],
   "source": [
    "len(train_n) + len(train_p)"
   ]
  },
  {
   "cell_type": "code",
   "execution_count": 8,
   "metadata": {},
   "outputs": [
    {
     "name": "stdout",
     "output_type": "stream",
     "text": [
      "Found 5216 images belonging to 2 classes.\n"
     ]
    }
   ],
   "source": [
    "# get all the data in the directory split/train (542 images), and reshape them\n",
    "train_generator = ImageDataGenerator(rescale=1./255).flow_from_directory(\n",
    "        train_folder, \n",
    "        target_size=(64, 64), batch_size= 5216)"
   ]
  },
  {
   "cell_type": "code",
   "execution_count": 9,
   "metadata": {},
   "outputs": [
    {
     "data": {
      "text/plain": [
       "16"
      ]
     },
     "execution_count": 9,
     "metadata": {},
     "output_type": "execute_result"
    }
   ],
   "source": [
    "len(test_n) + len(test_p)"
   ]
  },
  {
   "cell_type": "code",
   "execution_count": 10,
   "metadata": {},
   "outputs": [
    {
     "name": "stdout",
     "output_type": "stream",
     "text": [
      "Found 16 images belonging to 2 classes.\n"
     ]
    }
   ],
   "source": [
    "test_generator = ImageDataGenerator(rescale=1./255).flow_from_directory(\n",
    "        test_folder, \n",
    "        target_size=(64, 64), batch_size = 16)"
   ]
  },
  {
   "cell_type": "code",
   "execution_count": 11,
   "metadata": {},
   "outputs": [
    {
     "data": {
      "text/plain": [
       "624"
      ]
     },
     "execution_count": 11,
     "metadata": {},
     "output_type": "execute_result"
    }
   ],
   "source": [
    "len(val_n) + len(val_p)"
   ]
  },
  {
   "cell_type": "code",
   "execution_count": 12,
   "metadata": {},
   "outputs": [
    {
     "name": "stdout",
     "output_type": "stream",
     "text": [
      "Found 624 images belonging to 2 classes.\n"
     ]
    }
   ],
   "source": [
    "val_generator = ImageDataGenerator(rescale=1./255).flow_from_directory(\n",
    "        val_folder, \n",
    "        target_size=(64, 64), batch_size = 624) "
   ]
  },
  {
   "cell_type": "markdown",
   "metadata": {},
   "source": [
    "Create the datasets"
   ]
  },
  {
   "cell_type": "code",
   "execution_count": 13,
   "metadata": {},
   "outputs": [],
   "source": [
    "# create the data sets\n",
    "train_images, train_labels = next(train_generator)\n",
    "test_images, test_labels = next(test_generator)\n",
    "val_images, val_labels = next(val_generator)"
   ]
  },
  {
   "cell_type": "code",
   "execution_count": 93,
   "metadata": {},
   "outputs": [
    {
     "data": {
      "text/plain": [
       "array([[0., 1.],\n",
       "       [1., 0.],\n",
       "       [1., 0.],\n",
       "       ...,\n",
       "       [1., 0.],\n",
       "       [0., 1.],\n",
       "       [1., 0.]], dtype=float32)"
      ]
     },
     "execution_count": 93,
     "metadata": {},
     "output_type": "execute_result"
    }
   ],
   "source": [
    "train_labels"
   ]
  },
  {
   "cell_type": "markdown",
   "metadata": {},
   "source": [
    "reshape"
   ]
  },
  {
   "cell_type": "code",
   "execution_count": 54,
   "metadata": {},
   "outputs": [],
   "source": [
    "train_img = train_images.reshape(train_images.shape[0], -1)\n",
    "test_img = test_images.reshape(test_images.shape[0], -1)\n",
    "val_img = val_images.reshape(val_images.shape[0], -1)"
   ]
  },
  {
   "cell_type": "code",
   "execution_count": 55,
   "metadata": {},
   "outputs": [
    {
     "name": "stdout",
     "output_type": "stream",
     "text": [
      "(5216, 12288)\n",
      "(16, 12288)\n",
      "(624, 12288)\n"
     ]
    }
   ],
   "source": [
    "print(train_img.shape)\n",
    "print(test_img.shape)\n",
    "print(val_img.shape)"
   ]
  },
  {
   "cell_type": "code",
   "execution_count": 56,
   "metadata": {},
   "outputs": [],
   "source": [
    "train_y = np.reshape(train_labels[:,0], (5216,1))\n",
    "test_y = np.reshape(test_labels[:,0], (16,1))\n",
    "val_y = np.reshape(val_labels[:,0], (624,1))"
   ]
  },
  {
   "cell_type": "markdown",
   "metadata": {},
   "source": [
    "First Model"
   ]
  },
  {
   "cell_type": "code",
   "execution_count": 57,
   "metadata": {},
   "outputs": [],
   "source": [
    "first_model = models.Sequential()\n",
    "first_model.add(layers.Dense(20, activation='relu', input_shape=(12288,)))\n",
    "first_model.add(layers.Dense(1, activation='sigmoid'))"
   ]
  },
  {
   "cell_type": "code",
   "execution_count": 58,
   "metadata": {},
   "outputs": [],
   "source": [
    "first_model.compile(optimizer='sgd',\n",
    "              loss='binary_crossentropy',\n",
    "              metrics=[tf.keras.metrics.Recall()])"
   ]
  },
  {
   "cell_type": "code",
   "execution_count": 59,
   "metadata": {
    "scrolled": true
   },
   "outputs": [
    {
     "name": "stdout",
     "output_type": "stream",
     "text": [
      "Model: \"sequential_7\"\n",
      "_________________________________________________________________\n",
      "Layer (type)                 Output Shape              Param #   \n",
      "=================================================================\n",
      "dense_14 (Dense)             (None, 20)                245780    \n",
      "_________________________________________________________________\n",
      "dense_15 (Dense)             (None, 1)                 21        \n",
      "=================================================================\n",
      "Total params: 245,801\n",
      "Trainable params: 245,801\n",
      "Non-trainable params: 0\n",
      "_________________________________________________________________\n"
     ]
    }
   ],
   "source": [
    "first_model.summary()"
   ]
  },
  {
   "cell_type": "code",
   "execution_count": 60,
   "metadata": {},
   "outputs": [
    {
     "name": "stdout",
     "output_type": "stream",
     "text": [
      "Epoch 1/50\n",
      "163/163 [==============================] - 1s 4ms/step - loss: 0.5688 - recall_5: 0.0067 - val_loss: 0.5991 - val_recall_5: 0.0000e+00\n",
      "Epoch 2/50\n",
      "163/163 [==============================] - 1s 3ms/step - loss: 0.3857 - recall_5: 0.0902 - val_loss: 0.6123 - val_recall_5: 0.0983\n",
      "Epoch 3/50\n",
      "163/163 [==============================] - 0s 3ms/step - loss: 0.3093 - recall_5: 0.6547 - val_loss: 0.6150 - val_recall_5: 0.1795\n",
      "Epoch 4/50\n",
      "163/163 [==============================] - 0s 3ms/step - loss: 0.2527 - recall_5: 0.7405 - val_loss: 0.4968 - val_recall_5: 0.4060\n",
      "Epoch 5/50\n",
      "163/163 [==============================] - 1s 3ms/step - loss: 0.2223 - recall_5: 0.7912 - val_loss: 0.5301 - val_recall_5: 0.4060\n",
      "Epoch 6/50\n",
      "163/163 [==============================] - 1s 3ms/step - loss: 0.1731 - recall_5: 0.8449 - val_loss: 0.7480 - val_recall_5: 0.2692\n",
      "Epoch 7/50\n",
      "163/163 [==============================] - 1s 3ms/step - loss: 0.1661 - recall_5: 0.8486 - val_loss: 0.4917 - val_recall_5: 0.4872\n",
      "Epoch 8/50\n",
      "163/163 [==============================] - 1s 3ms/step - loss: 0.1578 - recall_5: 0.8591 - val_loss: 0.5799 - val_recall_5: 0.4359\n",
      "Epoch 9/50\n",
      "163/163 [==============================] - 1s 3ms/step - loss: 0.1770 - recall_5: 0.8456 - val_loss: 0.8494 - val_recall_5: 0.2607\n",
      "Epoch 10/50\n",
      "163/163 [==============================] - 1s 3ms/step - loss: 0.1483 - recall_5: 0.8784 - val_loss: 0.7528 - val_recall_5: 0.3419\n",
      "Epoch 11/50\n",
      "163/163 [==============================] - 1s 3ms/step - loss: 0.1383 - recall_5: 0.8792 - val_loss: 0.4340 - val_recall_5: 0.6068\n",
      "Epoch 12/50\n",
      "163/163 [==============================] - 1s 3ms/step - loss: 0.1346 - recall_5: 0.8904 - val_loss: 0.6910 - val_recall_5: 0.3889\n",
      "Epoch 13/50\n",
      "163/163 [==============================] - 1s 3ms/step - loss: 0.1418 - recall_5: 0.8867 - val_loss: 0.7389 - val_recall_5: 0.3718\n",
      "Epoch 14/50\n",
      "163/163 [==============================] - 1s 3ms/step - loss: 0.1367 - recall_5: 0.8837 - val_loss: 0.3970 - val_recall_5: 0.8120\n",
      "Epoch 15/50\n",
      "163/163 [==============================] - 1s 3ms/step - loss: 0.1246 - recall_5: 0.8993 - val_loss: 0.7787 - val_recall_5: 0.3632\n",
      "Epoch 16/50\n",
      "163/163 [==============================] - 1s 3ms/step - loss: 0.1202 - recall_5: 0.9008 - val_loss: 0.6419 - val_recall_5: 0.4615\n",
      "Epoch 17/50\n",
      "163/163 [==============================] - 1s 3ms/step - loss: 0.1224 - recall_5: 0.8978 - val_loss: 1.0718 - val_recall_5: 0.2479\n",
      "Epoch 18/50\n",
      "163/163 [==============================] - 1s 3ms/step - loss: 0.1449 - recall_5: 0.8926 - val_loss: 0.8904 - val_recall_5: 0.3162\n",
      "Epoch 19/50\n",
      "163/163 [==============================] - 1s 3ms/step - loss: 0.1185 - recall_5: 0.9038 - val_loss: 0.8188 - val_recall_5: 0.3504\n",
      "Epoch 20/50\n",
      "163/163 [==============================] - 1s 3ms/step - loss: 0.1192 - recall_5: 0.9053 - val_loss: 1.0190 - val_recall_5: 0.2692\n",
      "Epoch 21/50\n",
      "163/163 [==============================] - 1s 3ms/step - loss: 0.1243 - recall_5: 0.8956 - val_loss: 1.9162 - val_recall_5: 0.1111\n",
      "Epoch 22/50\n",
      "163/163 [==============================] - 1s 3ms/step - loss: 0.1148 - recall_5: 0.9090 - val_loss: 0.4475 - val_recall_5: 0.6325\n",
      "Epoch 23/50\n",
      "163/163 [==============================] - 1s 3ms/step - loss: 0.1199 - recall_5: 0.8993 - val_loss: 0.6070 - val_recall_5: 0.5043\n",
      "Epoch 24/50\n",
      "163/163 [==============================] - 1s 4ms/step - loss: 0.1200 - recall_5: 0.8941 - val_loss: 0.7242 - val_recall_5: 0.4231\n",
      "Epoch 25/50\n",
      "163/163 [==============================] - 1s 7ms/step - loss: 0.1109 - recall_5: 0.9031 - val_loss: 1.1004 - val_recall_5: 0.2607\n",
      "Epoch 26/50\n",
      "163/163 [==============================] - 1s 6ms/step - loss: 0.1133 - recall_5: 0.9090 - val_loss: 1.3361 - val_recall_5: 0.2179\n",
      "Epoch 27/50\n",
      "163/163 [==============================] - 1s 6ms/step - loss: 0.1076 - recall_5: 0.9083 - val_loss: 0.6353 - val_recall_5: 0.4872\n",
      "Epoch 28/50\n",
      "163/163 [==============================] - 1s 4ms/step - loss: 0.1181 - recall_5: 0.9060 - val_loss: 0.9781 - val_recall_5: 0.3077\n",
      "Epoch 29/50\n",
      "163/163 [==============================] - 1s 3ms/step - loss: 0.1109 - recall_5: 0.9120 - val_loss: 1.1151 - val_recall_5: 0.2692\n",
      "Epoch 30/50\n",
      "163/163 [==============================] - 1s 4ms/step - loss: 0.1079 - recall_5: 0.9150 - val_loss: 1.2777 - val_recall_5: 0.2308\n",
      "Epoch 31/50\n",
      "163/163 [==============================] - 1s 3ms/step - loss: 0.1099 - recall_5: 0.9068 - val_loss: 1.1828 - val_recall_5: 0.2607\n",
      "Epoch 32/50\n",
      "163/163 [==============================] - 1s 5ms/step - loss: 0.1099 - recall_5: 0.9157 - val_loss: 1.4598 - val_recall_5: 0.1880\n",
      "Epoch 33/50\n",
      "163/163 [==============================] - 1s 4ms/step - loss: 0.1074 - recall_5: 0.9045 - val_loss: 0.7963 - val_recall_5: 0.3974\n",
      "Epoch 34/50\n",
      "163/163 [==============================] - 1s 3ms/step - loss: 0.1018 - recall_5: 0.9172 - val_loss: 0.8102 - val_recall_5: 0.3932\n",
      "Epoch 35/50\n",
      "163/163 [==============================] - 1s 3ms/step - loss: 0.1094 - recall_5: 0.9128 - val_loss: 0.5553 - val_recall_5: 0.5684\n",
      "Epoch 36/50\n",
      "163/163 [==============================] - 1s 3ms/step - loss: 0.0983 - recall_5: 0.9247 - val_loss: 0.6662 - val_recall_5: 0.4829\n",
      "Epoch 37/50\n",
      "163/163 [==============================] - 1s 4ms/step - loss: 0.1110 - recall_5: 0.9120 - val_loss: 0.8149 - val_recall_5: 0.3932\n",
      "Epoch 38/50\n",
      "163/163 [==============================] - 1s 3ms/step - loss: 0.0929 - recall_5: 0.9284 - val_loss: 0.9821 - val_recall_5: 0.3291\n",
      "Epoch 39/50\n",
      "163/163 [==============================] - 1s 3ms/step - loss: 0.1005 - recall_5: 0.9187 - val_loss: 0.7356 - val_recall_5: 0.4615\n",
      "Epoch 40/50\n",
      "163/163 [==============================] - 1s 3ms/step - loss: 0.1041 - recall_5: 0.9180 - val_loss: 0.8620 - val_recall_5: 0.3846\n",
      "Epoch 41/50\n",
      "163/163 [==============================] - 1s 3ms/step - loss: 0.0988 - recall_5: 0.9172 - val_loss: 1.0014 - val_recall_5: 0.3333\n",
      "Epoch 42/50\n",
      "163/163 [==============================] - 1s 3ms/step - loss: 0.0966 - recall_5: 0.9224 - val_loss: 1.0619 - val_recall_5: 0.2991\n",
      "Epoch 43/50\n",
      "163/163 [==============================] - 1s 3ms/step - loss: 0.0937 - recall_5: 0.9224 - val_loss: 1.2439 - val_recall_5: 0.2564\n",
      "Epoch 44/50\n",
      "163/163 [==============================] - 1s 3ms/step - loss: 0.1010 - recall_5: 0.9142 - val_loss: 0.6970 - val_recall_5: 0.4872\n",
      "Epoch 45/50\n",
      "163/163 [==============================] - 1s 3ms/step - loss: 0.0961 - recall_5: 0.9232 - val_loss: 0.7061 - val_recall_5: 0.4744\n",
      "Epoch 46/50\n",
      "163/163 [==============================] - 1s 3ms/step - loss: 0.0949 - recall_5: 0.9254 - val_loss: 0.7816 - val_recall_5: 0.4402\n",
      "Epoch 47/50\n",
      "163/163 [==============================] - 1s 3ms/step - loss: 0.1004 - recall_5: 0.9195 - val_loss: 1.3473 - val_recall_5: 0.2436\n",
      "Epoch 48/50\n",
      "163/163 [==============================] - 1s 3ms/step - loss: 0.0928 - recall_5: 0.9262 - val_loss: 1.1628 - val_recall_5: 0.2735\n",
      "Epoch 49/50\n",
      "163/163 [==============================] - 1s 4ms/step - loss: 0.0903 - recall_5: 0.9344 - val_loss: 0.7598 - val_recall_5: 0.4444\n",
      "Epoch 50/50\n",
      "163/163 [==============================] - 1s 5ms/step - loss: 0.0964 - recall_5: 0.9232 - val_loss: 1.0560 - val_recall_5: 0.3077\n"
     ]
    }
   ],
   "source": [
    "result_first = first_model.fit(train_img,\n",
    "                    train_y,\n",
    "                    epochs=50,\n",
    "                    batch_size=32,\n",
    "                    validation_data=(val_img, val_y))"
   ]
  },
  {
   "cell_type": "markdown",
   "metadata": {},
   "source": [
    "Visualize Loss and Recall Score"
   ]
  },
  {
   "cell_type": "code",
   "execution_count": 61,
   "metadata": {},
   "outputs": [
    {
     "name": "stdout",
     "output_type": "stream",
     "text": [
      "163/163 [==============================] - 1s 3ms/step - loss: 0.0754 - recall_5: 0.9277\n",
      "20/20 [==============================] - 0s 2ms/step - loss: 1.0560 - recall_5: 0.3077\n",
      "[0.07539720833301544, 0.9276659488677979]\n",
      "[1.0559560060501099, 0.3076923191547394]\n"
     ]
    }
   ],
   "source": [
    "first_results_train = first_model.evaluate(train_img, train_y)\n",
    "first_results_val = first_model.evaluate(val_img, val_y)\n",
    "print(first_results_train)\n",
    "print(first_results_val)"
   ]
  },
  {
   "cell_type": "markdown",
   "metadata": {},
   "source": [
    "First Model Plus Class Weight"
   ]
  },
  {
   "cell_type": "code",
   "execution_count": 62,
   "metadata": {},
   "outputs": [
    {
     "name": "stdout",
     "output_type": "stream",
     "text": [
      "2.889634601043997\n",
      "1\n"
     ]
    }
   ],
   "source": [
    "weight_for_0 = 3875/1341\n",
    "weight_for_1 = 1\n",
    "\n",
    "class_weight = {0: (3875/1341), 1: 1}\n",
    "\n",
    "print(weight_for_0)\n",
    "print(weight_for_1)"
   ]
  },
  {
   "cell_type": "code",
   "execution_count": 63,
   "metadata": {},
   "outputs": [],
   "source": [
    "cb_first_model = models.Sequential()\n",
    "cb_first_model.add(layers.Dense(20, activation='relu', input_shape=(12288,)))\n",
    "cb_first_model.add(layers.Dense(1, activation='sigmoid'))"
   ]
  },
  {
   "cell_type": "code",
   "execution_count": 64,
   "metadata": {},
   "outputs": [],
   "source": [
    "cb_first_model.compile(optimizer='sgd',\n",
    "              loss='binary_crossentropy',\n",
    "              metrics=[tf.keras.metrics.Recall()])"
   ]
  },
  {
   "cell_type": "code",
   "execution_count": 65,
   "metadata": {},
   "outputs": [
    {
     "name": "stdout",
     "output_type": "stream",
     "text": [
      "Epoch 1/50\n",
      "163/163 [==============================] - 1s 5ms/step - loss: 0.9519 - recall_6: 0.0037 - val_loss: 0.7100 - val_recall_6: 0.0000e+00\n",
      "Epoch 2/50\n",
      "163/163 [==============================] - 1s 5ms/step - loss: 0.5344 - recall_6: 0.1939 - val_loss: 0.5311 - val_recall_6: 0.0171\n",
      "Epoch 3/50\n",
      "163/163 [==============================] - 1s 3ms/step - loss: 0.4223 - recall_6: 0.4795 - val_loss: 0.7675 - val_recall_6: 0.1111\n",
      "Epoch 4/50\n",
      "163/163 [==============================] - 1s 3ms/step - loss: 0.3830 - recall_6: 0.5913 - val_loss: 0.7547 - val_recall_6: 0.2222\n",
      "Epoch 5/50\n",
      "163/163 [==============================] - 1s 3ms/step - loss: 0.3322 - recall_6: 0.6950 - val_loss: 1.9940 - val_recall_6: 0.0085\n",
      "Epoch 6/50\n",
      "163/163 [==============================] - 1s 3ms/step - loss: 0.3381 - recall_6: 0.7122 - val_loss: 0.8241 - val_recall_6: 0.2521\n",
      "Epoch 7/50\n",
      "163/163 [==============================] - 1s 3ms/step - loss: 0.3091 - recall_6: 0.7353 - val_loss: 1.2096 - val_recall_6: 0.1496\n",
      "Epoch 8/50\n",
      "163/163 [==============================] - 1s 3ms/step - loss: 0.2882 - recall_6: 0.7666 - val_loss: 1.8586 - val_recall_6: 0.0299\n",
      "Epoch 9/50\n",
      "163/163 [==============================] - 1s 3ms/step - loss: 0.2824 - recall_6: 0.7673 - val_loss: 0.9776 - val_recall_6: 0.2393\n",
      "Epoch 10/50\n",
      "163/163 [==============================] - 1s 4ms/step - loss: 0.2654 - recall_6: 0.7942 - val_loss: 1.0647 - val_recall_6: 0.2393\n",
      "Epoch 11/50\n",
      "163/163 [==============================] - 1s 5ms/step - loss: 0.2656 - recall_6: 0.7949 - val_loss: 0.8648 - val_recall_6: 0.3291\n",
      "Epoch 12/50\n",
      "163/163 [==============================] - 1s 4ms/step - loss: 0.2538 - recall_6: 0.8106 - val_loss: 2.2557 - val_recall_6: 0.0342\n",
      "Epoch 13/50\n",
      "163/163 [==============================] - 1s 3ms/step - loss: 0.2452 - recall_6: 0.8136 - val_loss: 1.0332 - val_recall_6: 0.2735\n",
      "Epoch 14/50\n",
      "163/163 [==============================] - 1s 3ms/step - loss: 0.2448 - recall_6: 0.8076 - val_loss: 1.1822 - val_recall_6: 0.2393\n",
      "Epoch 15/50\n",
      "163/163 [==============================] - 1s 3ms/step - loss: 0.2444 - recall_6: 0.8180 - val_loss: 0.6050 - val_recall_6: 0.5085\n",
      "Epoch 16/50\n",
      "163/163 [==============================] - 1s 3ms/step - loss: 0.2419 - recall_6: 0.8173 - val_loss: 1.0512 - val_recall_6: 0.2778\n",
      "Epoch 17/50\n",
      "163/163 [==============================] - 1s 3ms/step - loss: 0.2310 - recall_6: 0.8270 - val_loss: 1.0077 - val_recall_6: 0.2991\n",
      "Epoch 18/50\n",
      "163/163 [==============================] - 1s 3ms/step - loss: 0.2234 - recall_6: 0.8352 - val_loss: 0.6926 - val_recall_6: 0.4615\n",
      "Epoch 19/50\n",
      "163/163 [==============================] - 1s 3ms/step - loss: 0.2281 - recall_6: 0.8285 - val_loss: 0.8797 - val_recall_6: 0.3462\n",
      "Epoch 20/50\n",
      "163/163 [==============================] - 1s 3ms/step - loss: 0.2179 - recall_6: 0.8292 - val_loss: 0.8721 - val_recall_6: 0.3718\n",
      "Epoch 21/50\n",
      "163/163 [==============================] - 1s 3ms/step - loss: 0.2186 - recall_6: 0.8404 - val_loss: 1.4779 - val_recall_6: 0.2009\n",
      "Epoch 22/50\n",
      "163/163 [==============================] - 1s 3ms/step - loss: 0.2125 - recall_6: 0.8434 - val_loss: 0.8259 - val_recall_6: 0.3974\n",
      "Epoch 23/50\n",
      "163/163 [==============================] - 1s 3ms/step - loss: 0.2034 - recall_6: 0.8509 - val_loss: 1.1162 - val_recall_6: 0.3077\n",
      "Epoch 24/50\n",
      "163/163 [==============================] - 1s 3ms/step - loss: 0.1960 - recall_6: 0.8576 - val_loss: 1.7423 - val_recall_6: 0.1496\n",
      "Epoch 25/50\n",
      "163/163 [==============================] - 1s 4ms/step - loss: 0.2155 - recall_6: 0.8464 - val_loss: 1.2458 - val_recall_6: 0.2094\n",
      "Epoch 26/50\n",
      "163/163 [==============================] - 1s 4ms/step - loss: 0.1998 - recall_6: 0.8494 - val_loss: 1.1865 - val_recall_6: 0.2906\n",
      "Epoch 27/50\n",
      "163/163 [==============================] - 1s 5ms/step - loss: 0.2084 - recall_6: 0.8494 - val_loss: 1.1473 - val_recall_6: 0.2692\n",
      "Epoch 28/50\n",
      "163/163 [==============================] - 1s 4ms/step - loss: 0.1913 - recall_6: 0.8635 - val_loss: 1.0562 - val_recall_6: 0.3333\n",
      "Epoch 29/50\n",
      "163/163 [==============================] - 1s 4ms/step - loss: 0.1932 - recall_6: 0.8650 - val_loss: 1.0469 - val_recall_6: 0.3205\n",
      "Epoch 30/50\n",
      "163/163 [==============================] - 1s 3ms/step - loss: 0.1913 - recall_6: 0.8523 - val_loss: 1.2157 - val_recall_6: 0.2821\n",
      "Epoch 31/50\n",
      "163/163 [==============================] - 1s 3ms/step - loss: 0.1889 - recall_6: 0.8643 - val_loss: 1.1367 - val_recall_6: 0.2949\n",
      "Epoch 32/50\n",
      "163/163 [==============================] - 1s 3ms/step - loss: 0.1868 - recall_6: 0.8643 - val_loss: 1.0176 - val_recall_6: 0.3462\n",
      "Epoch 33/50\n",
      "163/163 [==============================] - 1s 4ms/step - loss: 0.1759 - recall_6: 0.8732 - val_loss: 0.8413 - val_recall_6: 0.4316\n",
      "Epoch 34/50\n",
      "163/163 [==============================] - 1s 3ms/step - loss: 0.1809 - recall_6: 0.8717 - val_loss: 1.0779 - val_recall_6: 0.3333\n",
      "Epoch 35/50\n",
      "163/163 [==============================] - 1s 4ms/step - loss: 0.1877 - recall_6: 0.8553 - val_loss: 1.0557 - val_recall_6: 0.3376\n",
      "Epoch 36/50\n",
      "163/163 [==============================] - 1s 4ms/step - loss: 0.1753 - recall_6: 0.8688 - val_loss: 1.5364 - val_recall_6: 0.2350\n",
      "Epoch 37/50\n",
      "163/163 [==============================] - 1s 4ms/step - loss: 0.1695 - recall_6: 0.8732 - val_loss: 1.8282 - val_recall_6: 0.1667\n",
      "Epoch 38/50\n",
      "163/163 [==============================] - 1s 5ms/step - loss: 0.1673 - recall_6: 0.8732 - val_loss: 1.0209 - val_recall_6: 0.3419\n",
      "Epoch 39/50\n",
      "163/163 [==============================] - 1s 4ms/step - loss: 0.1653 - recall_6: 0.8807 - val_loss: 1.4622 - val_recall_6: 0.1966\n",
      "Epoch 40/50\n",
      "163/163 [==============================] - 1s 5ms/step - loss: 0.1683 - recall_6: 0.8814 - val_loss: 1.1016 - val_recall_6: 0.3376\n",
      "Epoch 41/50\n",
      "163/163 [==============================] - 1s 4ms/step - loss: 0.1618 - recall_6: 0.8867 - val_loss: 1.6034 - val_recall_6: 0.2094\n",
      "Epoch 42/50\n",
      "163/163 [==============================] - 1s 4ms/step - loss: 0.1734 - recall_6: 0.8717 - val_loss: 1.1724 - val_recall_6: 0.3120\n",
      "Epoch 43/50\n",
      "163/163 [==============================] - 1s 4ms/step - loss: 0.1579 - recall_6: 0.8896 - val_loss: 1.5423 - val_recall_6: 0.2051\n",
      "Epoch 44/50\n",
      "163/163 [==============================] - 1s 4ms/step - loss: 0.1602 - recall_6: 0.8770 - val_loss: 1.2603 - val_recall_6: 0.2821\n",
      "Epoch 45/50\n",
      "163/163 [==============================] - 1s 4ms/step - loss: 0.1584 - recall_6: 0.8807 - val_loss: 1.6407 - val_recall_6: 0.2350\n",
      "Epoch 46/50\n",
      "163/163 [==============================] - 1s 5ms/step - loss: 0.1501 - recall_6: 0.8852 - val_loss: 1.4605 - val_recall_6: 0.2735\n",
      "Epoch 47/50\n",
      "163/163 [==============================] - 1s 5ms/step - loss: 0.1549 - recall_6: 0.8837 - val_loss: 1.2583 - val_recall_6: 0.3034\n",
      "Epoch 48/50\n",
      "163/163 [==============================] - 1s 4ms/step - loss: 0.1571 - recall_6: 0.8837 - val_loss: 1.0815 - val_recall_6: 0.3547\n",
      "Epoch 49/50\n",
      "163/163 [==============================] - 1s 4ms/step - loss: 0.1474 - recall_6: 0.8867 - val_loss: 1.4626 - val_recall_6: 0.2778\n",
      "Epoch 50/50\n",
      "163/163 [==============================] - 1s 4ms/step - loss: 0.1579 - recall_6: 0.8852 - val_loss: 0.8246 - val_recall_6: 0.4786\n"
     ]
    }
   ],
   "source": [
    "result_cb_first = cb_first_model.fit(train_img,\n",
    "                    train_y,\n",
    "                    epochs=50,\n",
    "                    class_weight = class_weight,\n",
    "                    batch_size=32,\n",
    "                    validation_data=(val_img, val_y))"
   ]
  },
  {
   "cell_type": "code",
   "execution_count": 66,
   "metadata": {
    "scrolled": true
   },
   "outputs": [
    {
     "name": "stdout",
     "output_type": "stream",
     "text": [
      "163/163 [==============================] - 0s 3ms/step - loss: 0.0984 - recall_6: 0.9754\n",
      "20/20 [==============================] - 0s 2ms/step - loss: 0.8246 - recall_6: 0.4786\n",
      "[0.07539720833301544, 0.9276659488677979]\n",
      "[1.0559560060501099, 0.3076923191547394]\n",
      "[0.09835421293973923, 0.9753915071487427]\n",
      "[0.8245831727981567, 0.47863247990608215]\n"
     ]
    }
   ],
   "source": [
    "cb_first_results_train = cb_first_model.evaluate(train_img, train_y)\n",
    "cb_first_results_val = cb_first_model.evaluate(val_img, val_y)\n",
    "\n",
    "print(first_results_train)\n",
    "print(first_results_val)\n",
    "print(cb_first_results_train)\n",
    "print(cb_first_results_val)"
   ]
  },
  {
   "cell_type": "markdown",
   "metadata": {},
   "source": [
    "add Early Stopping"
   ]
  },
  {
   "cell_type": "code",
   "execution_count": 67,
   "metadata": {},
   "outputs": [],
   "source": [
    "# Import EarlyStopping and ModelCheckpoint\n",
    "from keras.callbacks import EarlyStopping, ModelCheckpoint\n",
    "\n",
    "# Define the callbacks\n",
    "early_stopping = [EarlyStopping(monitor='val_loss', patience=10), \n",
    "                  ModelCheckpoint(filepath='best_model.h5', monitor='val_loss', save_best_only=True)]"
   ]
  },
  {
   "cell_type": "code",
   "execution_count": 68,
   "metadata": {},
   "outputs": [],
   "source": [
    "es_cb_first_model = models.Sequential()\n",
    "es_cb_first_model.add(layers.Dense(20, activation='relu', input_shape=(12288,)))\n",
    "es_cb_first_model.add(layers.Dense(1, activation='sigmoid'))"
   ]
  },
  {
   "cell_type": "code",
   "execution_count": 69,
   "metadata": {},
   "outputs": [],
   "source": [
    "es_cb_first_model.compile(optimizer='sgd',\n",
    "              loss='binary_crossentropy',\n",
    "              metrics=[tf.keras.metrics.Recall()])"
   ]
  },
  {
   "cell_type": "code",
   "execution_count": 70,
   "metadata": {
    "scrolled": true
   },
   "outputs": [
    {
     "name": "stdout",
     "output_type": "stream",
     "text": [
      "Epoch 1/50\n",
      "163/163 [==============================] - 1s 5ms/step - loss: 0.6843 - recall_7: 0.0321 - val_loss: 0.7372 - val_recall_7: 0.0171\n",
      "Epoch 2/50\n",
      "163/163 [==============================] - 1s 5ms/step - loss: 0.4532 - recall_7: 0.4526 - val_loss: 1.6991 - val_recall_7: 0.0000e+00\n",
      "Epoch 3/50\n",
      "163/163 [==============================] - 1s 5ms/step - loss: 0.4126 - recall_7: 0.6070 - val_loss: 2.6199 - val_recall_7: 0.0000e+00\n",
      "Epoch 4/50\n",
      "163/163 [==============================] - 1s 3ms/step - loss: 0.3416 - recall_7: 0.6741 - val_loss: 0.4718 - val_recall_7: 0.4829\n",
      "Epoch 5/50\n",
      "163/163 [==============================] - 1s 6ms/step - loss: 0.3022 - recall_7: 0.7263 - val_loss: 0.7100 - val_recall_7: 0.2949\n",
      "Epoch 6/50\n",
      "163/163 [==============================] - 1s 4ms/step - loss: 0.2964 - recall_7: 0.7218 - val_loss: 0.5260 - val_recall_7: 0.4658\n",
      "Epoch 7/50\n",
      "163/163 [==============================] - 1s 4ms/step - loss: 0.2420 - recall_7: 0.7800 - val_loss: 1.4140 - val_recall_7: 0.1111\n",
      "Epoch 8/50\n",
      "163/163 [==============================] - 1s 4ms/step - loss: 0.2697 - recall_7: 0.7562 - val_loss: 0.7842 - val_recall_7: 0.3034\n",
      "Epoch 9/50\n",
      "163/163 [==============================] - 1s 4ms/step - loss: 0.2357 - recall_7: 0.7905 - val_loss: 1.3517 - val_recall_7: 0.1410\n",
      "Epoch 10/50\n",
      "163/163 [==============================] - 1s 3ms/step - loss: 0.2377 - recall_7: 0.7890 - val_loss: 1.2440 - val_recall_7: 0.1709\n",
      "Epoch 11/50\n",
      "163/163 [==============================] - 1s 3ms/step - loss: 0.2344 - recall_7: 0.7875 - val_loss: 1.1496 - val_recall_7: 0.2051\n",
      "Epoch 12/50\n",
      "163/163 [==============================] - 1s 3ms/step - loss: 0.2116 - recall_7: 0.8084 - val_loss: 1.5057 - val_recall_7: 0.1282\n",
      "Epoch 13/50\n",
      "163/163 [==============================] - 1s 3ms/step - loss: 0.2193 - recall_7: 0.8046 - val_loss: 0.5897 - val_recall_7: 0.4615\n",
      "Epoch 14/50\n",
      "163/163 [==============================] - 1s 3ms/step - loss: 0.2237 - recall_7: 0.8009 - val_loss: 0.6010 - val_recall_7: 0.4573\n"
     ]
    }
   ],
   "source": [
    "result_es_cb_first = es_cb_first_model.fit(train_img,\n",
    "                    train_y,\n",
    "                    epochs=50,\n",
    "                    class_weight = class_weight,\n",
    "                    callbacks=early_stopping,\n",
    "                    batch_size=32,\n",
    "                    validation_data=(val_img, val_y))"
   ]
  },
  {
   "cell_type": "code",
   "execution_count": 71,
   "metadata": {
    "scrolled": true
   },
   "outputs": [
    {
     "name": "stdout",
     "output_type": "stream",
     "text": [
      "163/163 [==============================] - 0s 2ms/step - loss: 0.1174 - recall_7: 0.9485\n",
      "20/20 [==============================] - 0s 2ms/step - loss: 0.6010 - recall_7: 0.4573\n",
      "[0.07539720833301544, 0.9276659488677979]\n",
      "[1.0559560060501099, 0.3076923191547394]\n",
      "[0.09835421293973923, 0.9753915071487427]\n",
      "[0.8245831727981567, 0.47863247990608215]\n",
      "[0.11735934764146805, 0.9485458731651306]\n",
      "[0.6010156273841858, 0.4572649598121643]\n"
     ]
    }
   ],
   "source": [
    "es_cb_first_results_train = es_cb_first_model.evaluate(train_img, train_y)\n",
    "es_cb_first_results_val = es_cb_first_model.evaluate(val_img, val_y)\n",
    "\n",
    "print(first_results_train)\n",
    "print(first_results_val)\n",
    "print(cb_first_results_train)\n",
    "print(cb_first_results_val)\n",
    "print(es_cb_first_results_train)\n",
    "print(es_cb_first_results_val)"
   ]
  },
  {
   "cell_type": "code",
   "execution_count": 72,
   "metadata": {},
   "outputs": [],
   "source": [
    "#Load the best (saved) model\n",
    "from keras.models import load_model\n",
    "saved_model = load_model('best_model.h5')"
   ]
  },
  {
   "cell_type": "code",
   "execution_count": 73,
   "metadata": {},
   "outputs": [
    {
     "name": "stdout",
     "output_type": "stream",
     "text": [
      "163/163 [==============================] - 0s 2ms/step - loss: 0.1529 - recall_7: 0.9045\n",
      "20/20 [==============================] - 0s 3ms/step - loss: 0.4718 - recall_7: 0.4829\n"
     ]
    }
   ],
   "source": [
    "save_results_train = saved_model.evaluate(train_img, train_y)\n",
    "save_results_val = saved_model.evaluate(val_img, val_y)"
   ]
  },
  {
   "cell_type": "markdown",
   "metadata": {},
   "source": [
    "Dropout "
   ]
  },
  {
   "cell_type": "code",
   "execution_count": 75,
   "metadata": {},
   "outputs": [],
   "source": [
    "model = models.Sequential()\n",
    "model.add(layers.Dropout(0.3, input_shape=(12288,)))\n",
    "model.add(layers.Dense(5, activation='relu'))\n",
    "model.add(layers.Dropout(0.3))\n",
    "model.add(layers.Dense(1, activation='sigmoid'))"
   ]
  },
  {
   "cell_type": "code",
   "execution_count": 76,
   "metadata": {},
   "outputs": [],
   "source": [
    "model.compile(optimizer='sgd',\n",
    "              loss='binary_crossentropy',\n",
    "              metrics=[tf.keras.metrics.Recall()])"
   ]
  },
  {
   "cell_type": "code",
   "execution_count": 77,
   "metadata": {},
   "outputs": [
    {
     "name": "stdout",
     "output_type": "stream",
     "text": [
      "Epoch 1/50\n",
      "163/163 [==============================] - 1s 5ms/step - loss: 0.9526 - recall_8: 0.0037 - val_loss: 0.7893 - val_recall_8: 0.0000e+00\n",
      "Epoch 2/50\n",
      "163/163 [==============================] - 1s 5ms/step - loss: 0.7216 - recall_8: 0.0000e+00 - val_loss: 0.6895 - val_recall_8: 0.0000e+00\n",
      "Epoch 3/50\n",
      "163/163 [==============================] - 1s 5ms/step - loss: 0.6748 - recall_8: 0.0000e+00 - val_loss: 0.6060 - val_recall_8: 0.0000e+00\n",
      "Epoch 4/50\n",
      "163/163 [==============================] - 1s 5ms/step - loss: 0.6389 - recall_8: 0.0000e+00 - val_loss: 0.7531 - val_recall_8: 0.0000e+00\n",
      "Epoch 5/50\n",
      "163/163 [==============================] - 1s 5ms/step - loss: 0.6398 - recall_8: 0.0000e+00 - val_loss: 0.8462 - val_recall_8: 0.0000e+00\n",
      "Epoch 6/50\n",
      "163/163 [==============================] - 1s 5ms/step - loss: 0.6206 - recall_8: 0.0000e+00 - val_loss: 0.9041 - val_recall_8: 0.0000e+00\n",
      "Epoch 7/50\n",
      "163/163 [==============================] - 1s 5ms/step - loss: 0.6174 - recall_8: 0.0000e+00 - val_loss: 0.8162 - val_recall_8: 0.0000e+00\n",
      "Epoch 8/50\n",
      "163/163 [==============================] - 1s 6ms/step - loss: 0.6206 - recall_8: 0.0000e+00 - val_loss: 0.7570 - val_recall_8: 0.0000e+00\n",
      "Epoch 9/50\n",
      "163/163 [==============================] - 1s 6ms/step - loss: 0.6073 - recall_8: 0.0000e+00 - val_loss: 0.8020 - val_recall_8: 0.0000e+00\n",
      "Epoch 10/50\n",
      "163/163 [==============================] - 1s 5ms/step - loss: 0.6085 - recall_8: 0.0000e+00 - val_loss: 1.1859 - val_recall_8: 0.0000e+00\n",
      "Epoch 11/50\n",
      "163/163 [==============================] - 1s 5ms/step - loss: 0.6064 - recall_8: 0.0000e+00 - val_loss: 0.8220 - val_recall_8: 0.0000e+00\n",
      "Epoch 12/50\n",
      "163/163 [==============================] - 1s 5ms/step - loss: 0.6159 - recall_8: 0.0000e+00 - val_loss: 0.9261 - val_recall_8: 0.0000e+00\n",
      "Epoch 13/50\n",
      "163/163 [==============================] - 1s 5ms/step - loss: 0.6080 - recall_8: 0.0000e+00 - val_loss: 1.0991 - val_recall_8: 0.0000e+00\n",
      "Epoch 14/50\n",
      "163/163 [==============================] - 1s 5ms/step - loss: 0.6001 - recall_8: 0.0000e+00 - val_loss: 0.8583 - val_recall_8: 0.0000e+00\n",
      "Epoch 15/50\n",
      "163/163 [==============================] - 1s 8ms/step - loss: 0.6085 - recall_8: 0.0000e+00 - val_loss: 1.0015 - val_recall_8: 0.0000e+00\n",
      "Epoch 16/50\n",
      "163/163 [==============================] - 1s 5ms/step - loss: 0.6107 - recall_8: 0.0000e+00 - val_loss: 1.0403 - val_recall_8: 0.0000e+00\n",
      "Epoch 17/50\n",
      "163/163 [==============================] - 1s 5ms/step - loss: 0.5979 - recall_8: 0.0000e+00 - val_loss: 0.8719 - val_recall_8: 0.0000e+00\n",
      "Epoch 18/50\n",
      "163/163 [==============================] - 1s 5ms/step - loss: 0.6006 - recall_8: 0.0000e+00 - val_loss: 0.9842 - val_recall_8: 0.0000e+00\n",
      "Epoch 19/50\n",
      "163/163 [==============================] - 1s 5ms/step - loss: 0.6066 - recall_8: 0.0000e+00 - val_loss: 0.7430 - val_recall_8: 0.0000e+00\n",
      "Epoch 20/50\n",
      "163/163 [==============================] - 1s 5ms/step - loss: 0.6055 - recall_8: 0.0000e+00 - val_loss: 0.8199 - val_recall_8: 0.0000e+00\n",
      "Epoch 21/50\n",
      "163/163 [==============================] - 1s 5ms/step - loss: 0.6062 - recall_8: 0.0000e+00 - val_loss: 1.0314 - val_recall_8: 0.0000e+00\n",
      "Epoch 22/50\n",
      "163/163 [==============================] - 1s 6ms/step - loss: 0.5985 - recall_8: 0.0000e+00 - val_loss: 1.2325 - val_recall_8: 0.0000e+00\n",
      "Epoch 23/50\n",
      "163/163 [==============================] - 1s 5ms/step - loss: 0.5962 - recall_8: 0.0000e+00 - val_loss: 1.1053 - val_recall_8: 0.0000e+00\n",
      "Epoch 24/50\n",
      "163/163 [==============================] - 1s 5ms/step - loss: 0.6004 - recall_8: 0.0000e+00 - val_loss: 1.0219 - val_recall_8: 0.0000e+00\n",
      "Epoch 25/50\n",
      "163/163 [==============================] - 1s 5ms/step - loss: 0.6079 - recall_8: 0.0000e+00 - val_loss: 1.0202 - val_recall_8: 0.0000e+00\n",
      "Epoch 26/50\n",
      "163/163 [==============================] - 1s 5ms/step - loss: 0.6023 - recall_8: 0.0000e+00 - val_loss: 0.8091 - val_recall_8: 0.0000e+00\n",
      "Epoch 27/50\n",
      "163/163 [==============================] - 1s 5ms/step - loss: 0.6027 - recall_8: 0.0000e+00 - val_loss: 1.2047 - val_recall_8: 0.0000e+00\n",
      "Epoch 28/50\n",
      "163/163 [==============================] - 1s 5ms/step - loss: 0.6036 - recall_8: 0.0000e+00 - val_loss: 0.8514 - val_recall_8: 0.0000e+00\n",
      "Epoch 29/50\n",
      "163/163 [==============================] - 1s 5ms/step - loss: 0.5966 - recall_8: 0.0000e+00 - val_loss: 1.1648 - val_recall_8: 0.0000e+00\n",
      "Epoch 30/50\n",
      "163/163 [==============================] - 1s 6ms/step - loss: 0.5960 - recall_8: 0.0000e+00 - val_loss: 1.0463 - val_recall_8: 0.0000e+00\n",
      "Epoch 31/50\n",
      "163/163 [==============================] - 1s 6ms/step - loss: 0.5968 - recall_8: 0.0000e+00 - val_loss: 1.0690 - val_recall_8: 0.0000e+00\n",
      "Epoch 32/50\n",
      "163/163 [==============================] - 1s 5ms/step - loss: 0.5998 - recall_8: 0.0000e+00 - val_loss: 0.9512 - val_recall_8: 0.0000e+00\n",
      "Epoch 33/50\n",
      "163/163 [==============================] - 1s 5ms/step - loss: 0.5976 - recall_8: 0.0000e+00 - val_loss: 1.2302 - val_recall_8: 0.0000e+00\n",
      "Epoch 34/50\n",
      "163/163 [==============================] - 1s 5ms/step - loss: 0.5916 - recall_8: 0.0000e+00 - val_loss: 0.9938 - val_recall_8: 0.0000e+00\n",
      "Epoch 35/50\n",
      "163/163 [==============================] - 1s 6ms/step - loss: 0.5911 - recall_8: 0.0000e+00 - val_loss: 1.1093 - val_recall_8: 0.0000e+00\n",
      "Epoch 36/50\n",
      "163/163 [==============================] - 1s 7ms/step - loss: 0.5928 - recall_8: 0.0000e+00 - val_loss: 0.9232 - val_recall_8: 0.0000e+00\n",
      "Epoch 37/50\n",
      "163/163 [==============================] - 1s 6ms/step - loss: 0.5941 - recall_8: 0.0000e+00 - val_loss: 0.8734 - val_recall_8: 0.0000e+00\n",
      "Epoch 38/50\n",
      "163/163 [==============================] - 1s 5ms/step - loss: 0.5813 - recall_8: 0.0000e+00 - val_loss: 0.8105 - val_recall_8: 0.0000e+00\n",
      "Epoch 39/50\n",
      "163/163 [==============================] - 1s 5ms/step - loss: 0.5873 - recall_8: 0.0000e+00 - val_loss: 0.9363 - val_recall_8: 0.0000e+00\n",
      "Epoch 40/50\n",
      "163/163 [==============================] - 1s 5ms/step - loss: 0.5944 - recall_8: 0.0000e+00 - val_loss: 1.2107 - val_recall_8: 0.0000e+00\n",
      "Epoch 41/50\n",
      "163/163 [==============================] - 1s 5ms/step - loss: 0.5872 - recall_8: 0.0000e+00 - val_loss: 1.2253 - val_recall_8: 0.0000e+00\n",
      "Epoch 42/50\n",
      "163/163 [==============================] - 1s 5ms/step - loss: 0.5936 - recall_8: 0.0000e+00 - val_loss: 0.9686 - val_recall_8: 0.0000e+00\n",
      "Epoch 43/50\n",
      "163/163 [==============================] - 1s 5ms/step - loss: 0.5846 - recall_8: 0.0000e+00 - val_loss: 1.0791 - val_recall_8: 0.0000e+00\n",
      "Epoch 44/50\n",
      "163/163 [==============================] - 1s 5ms/step - loss: 0.5903 - recall_8: 0.0000e+00 - val_loss: 1.0178 - val_recall_8: 0.0000e+00\n",
      "Epoch 45/50\n",
      "163/163 [==============================] - 1s 6ms/step - loss: 0.5952 - recall_8: 0.0000e+00 - val_loss: 0.9310 - val_recall_8: 0.0000e+00\n",
      "Epoch 46/50\n",
      "163/163 [==============================] - 1s 6ms/step - loss: 0.6036 - recall_8: 0.0000e+00 - val_loss: 0.7701 - val_recall_8: 0.0000e+00\n",
      "Epoch 47/50\n",
      "163/163 [==============================] - 1s 6ms/step - loss: 0.5884 - recall_8: 0.0000e+00 - val_loss: 1.2482 - val_recall_8: 0.0000e+00\n",
      "Epoch 48/50\n",
      "163/163 [==============================] - 1s 7ms/step - loss: 0.5891 - recall_8: 0.0000e+00 - val_loss: 0.8503 - val_recall_8: 0.0000e+00\n",
      "Epoch 49/50\n",
      "163/163 [==============================] - 1s 8ms/step - loss: 0.5868 - recall_8: 0.0000e+00 - val_loss: 0.9746 - val_recall_8: 0.0000e+00\n",
      "Epoch 50/50\n",
      "163/163 [==============================] - 1s 9ms/step - loss: 0.5917 - recall_8: 0.0000e+00 - val_loss: 0.8858 - val_recall_8: 0.0000e+00\n"
     ]
    }
   ],
   "source": [
    "result = model.fit(train_img,\n",
    "                    train_y,\n",
    "                    epochs=50,\n",
    "                    class_weight = class_weight,\n",
    "                    batch_size=32,\n",
    "                    validation_data=(val_img, val_y))"
   ]
  },
  {
   "cell_type": "markdown",
   "metadata": {},
   "source": [
    "L1 Regularization"
   ]
  },
  {
   "cell_type": "code",
   "execution_count": 79,
   "metadata": {},
   "outputs": [],
   "source": [
    "from keras import regularizers\n",
    "L1_model = models.Sequential()\n",
    "L1_model.add(layers.Dense(20, activation='relu', kernel_regularizer=regularizers.l1(0.005), input_shape=(12288,)))\n",
    "L1_model.add(layers.Dense(1, activation='sigmoid'))"
   ]
  },
  {
   "cell_type": "code",
   "execution_count": 81,
   "metadata": {},
   "outputs": [],
   "source": [
    "L1_model.compile(optimizer='sgd',\n",
    "              loss='binary_crossentropy',\n",
    "              metrics=[tf.keras.metrics.Recall()])"
   ]
  },
  {
   "cell_type": "code",
   "execution_count": 82,
   "metadata": {},
   "outputs": [
    {
     "name": "stdout",
     "output_type": "stream",
     "text": [
      "Epoch 1/50\n",
      "163/163 [==============================] - 1s 5ms/step - loss: 10.1437 - recall_10: 0.0172 - val_loss: 6.8807 - val_recall_10: 0.0000e+00\n",
      "Epoch 2/50\n",
      "163/163 [==============================] - 1s 4ms/step - loss: 3.7244 - recall_10: 0.1626 - val_loss: 1.8197 - val_recall_10: 0.0299\n",
      "Epoch 3/50\n",
      "163/163 [==============================] - 1s 4ms/step - loss: 1.2603 - recall_10: 0.1156 - val_loss: 1.0869 - val_recall_10: 0.0000e+00\n",
      "Epoch 4/50\n",
      "163/163 [==============================] - 1s 4ms/step - loss: 0.9407 - recall_10: 0.1193 - val_loss: 1.0097 - val_recall_10: 0.0000e+00\n",
      "Epoch 5/50\n",
      "163/163 [==============================] - 1s 4ms/step - loss: 0.9176 - recall_10: 0.1268 - val_loss: 0.8719 - val_recall_10: 0.0000e+00\n",
      "Epoch 6/50\n",
      "163/163 [==============================] - 1s 4ms/step - loss: 0.8456 - recall_10: 0.1641 - val_loss: 0.8102 - val_recall_10: 0.0684\n",
      "Epoch 7/50\n",
      "163/163 [==============================] - 1s 4ms/step - loss: 0.8575 - recall_10: 0.2446 - val_loss: 1.0830 - val_recall_10: 0.0000e+00\n",
      "Epoch 8/50\n",
      "163/163 [==============================] - 1s 5ms/step - loss: 0.7939 - recall_10: 0.3229 - val_loss: 1.0893 - val_recall_10: 0.0085\n",
      "Epoch 9/50\n",
      "163/163 [==============================] - 1s 5ms/step - loss: 0.8355 - recall_10: 0.3259 - val_loss: 0.9787 - val_recall_10: 0.0214\n",
      "Epoch 10/50\n",
      "163/163 [==============================] - 1s 4ms/step - loss: 0.8087 - recall_10: 0.3318 - val_loss: 0.7586 - val_recall_10: 0.2735\n",
      "Epoch 11/50\n",
      "163/163 [==============================] - 1s 4ms/step - loss: 0.8116 - recall_10: 0.3594 - val_loss: 0.7873 - val_recall_10: 0.2179\n",
      "Epoch 12/50\n",
      "163/163 [==============================] - 1s 4ms/step - loss: 0.8126 - recall_10: 0.3557 - val_loss: 1.5565 - val_recall_10: 0.0000e+00\n",
      "Epoch 13/50\n",
      "163/163 [==============================] - 1s 4ms/step - loss: 0.8340 - recall_10: 0.3878 - val_loss: 0.7406 - val_recall_10: 0.3889\n",
      "Epoch 14/50\n",
      "163/163 [==============================] - 1s 4ms/step - loss: 0.7777 - recall_10: 0.4012 - val_loss: 0.7685 - val_recall_10: 0.3162\n",
      "Epoch 15/50\n",
      "163/163 [==============================] - 1s 4ms/step - loss: 0.8192 - recall_10: 0.3937 - val_loss: 1.0078 - val_recall_10: 0.0513\n",
      "Epoch 16/50\n",
      "163/163 [==============================] - 1s 4ms/step - loss: 0.8064 - recall_10: 0.4012 - val_loss: 0.8060 - val_recall_10: 0.2222\n",
      "Epoch 17/50\n",
      "163/163 [==============================] - 1s 4ms/step - loss: 0.7935 - recall_10: 0.4280 - val_loss: 1.2891 - val_recall_10: 0.0085\n",
      "Epoch 18/50\n",
      "163/163 [==============================] - 1s 6ms/step - loss: 0.7902 - recall_10: 0.4191 - val_loss: 0.8022 - val_recall_10: 0.2607\n",
      "Epoch 19/50\n",
      "163/163 [==============================] - 1s 4ms/step - loss: 0.8091 - recall_10: 0.4161 - val_loss: 0.9998 - val_recall_10: 0.0641\n",
      "Epoch 20/50\n",
      "163/163 [==============================] - 1s 4ms/step - loss: 0.8243 - recall_10: 0.4131 - val_loss: 0.9069 - val_recall_10: 0.1282\n",
      "Epoch 21/50\n",
      "163/163 [==============================] - 1s 4ms/step - loss: 0.8109 - recall_10: 0.4049 - val_loss: 0.7692 - val_recall_10: 0.3419\n",
      "Epoch 22/50\n",
      "163/163 [==============================] - 1s 4ms/step - loss: 0.8147 - recall_10: 0.4154 - val_loss: 0.9833 - val_recall_10: 0.0726\n",
      "Epoch 23/50\n",
      "163/163 [==============================] - 1s 4ms/step - loss: 0.7649 - recall_10: 0.4579 - val_loss: 0.8415 - val_recall_10: 0.2094\n",
      "Epoch 24/50\n",
      "163/163 [==============================] - 1s 4ms/step - loss: 0.8228 - recall_10: 0.4265 - val_loss: 2.4127 - val_recall_10: 0.0000e+00\n",
      "Epoch 25/50\n",
      "163/163 [==============================] - 1s 4ms/step - loss: 0.7904 - recall_10: 0.4362 - val_loss: 0.7655 - val_recall_10: 0.3803\n",
      "Epoch 26/50\n",
      "163/163 [==============================] - 1s 4ms/step - loss: 0.8132 - recall_10: 0.4288 - val_loss: 0.7831 - val_recall_10: 0.3205\n",
      "Epoch 27/50\n",
      "163/163 [==============================] - 1s 4ms/step - loss: 0.7803 - recall_10: 0.4474 - val_loss: 0.9709 - val_recall_10: 0.1026\n",
      "Epoch 28/50\n",
      "163/163 [==============================] - 1s 6ms/step - loss: 0.8139 - recall_10: 0.4325 - val_loss: 0.8860 - val_recall_10: 0.1795\n",
      "Epoch 29/50\n",
      "163/163 [==============================] - 1s 4ms/step - loss: 0.7868 - recall_10: 0.4698 - val_loss: 1.3577 - val_recall_10: 0.0085\n",
      "Epoch 30/50\n",
      "163/163 [==============================] - 1s 6ms/step - loss: 0.7945 - recall_10: 0.4519 - val_loss: 0.7477 - val_recall_10: 0.8590\n",
      "Epoch 31/50\n",
      "163/163 [==============================] - 1s 4ms/step - loss: 0.8242 - recall_10: 0.4303 - val_loss: 1.2717 - val_recall_10: 0.0128\n",
      "Epoch 32/50\n",
      "163/163 [==============================] - 1s 4ms/step - loss: 0.7961 - recall_10: 0.4109 - val_loss: 0.7242 - val_recall_10: 0.5214\n",
      "Epoch 33/50\n",
      "163/163 [==============================] - 1s 4ms/step - loss: 0.7950 - recall_10: 0.4549 - val_loss: 0.9618 - val_recall_10: 0.1239\n",
      "Epoch 34/50\n",
      "163/163 [==============================] - 1s 4ms/step - loss: 0.7894 - recall_10: 0.4571 - val_loss: 1.0016 - val_recall_10: 0.0983\n",
      "Epoch 35/50\n",
      "163/163 [==============================] - 1s 4ms/step - loss: 0.8109 - recall_10: 0.4444 - val_loss: 1.0139 - val_recall_10: 0.0812\n",
      "Epoch 36/50\n",
      "163/163 [==============================] - 1s 4ms/step - loss: 0.8013 - recall_10: 0.4467 - val_loss: 0.7588 - val_recall_10: 0.3846\n",
      "Epoch 37/50\n",
      "163/163 [==============================] - 1s 5ms/step - loss: 0.8011 - recall_10: 0.4526 - val_loss: 1.0792 - val_recall_10: 0.0470\n",
      "Epoch 38/50\n",
      "163/163 [==============================] - 1s 4ms/step - loss: 0.7850 - recall_10: 0.4698 - val_loss: 1.3573 - val_recall_10: 0.0085\n",
      "Epoch 39/50\n",
      "163/163 [==============================] - 1s 5ms/step - loss: 0.7589 - recall_10: 0.4787 - val_loss: 1.0392 - val_recall_10: 0.0940\n",
      "Epoch 40/50\n",
      "163/163 [==============================] - 1s 5ms/step - loss: 0.8302 - recall_10: 0.4594 - val_loss: 0.8896 - val_recall_10: 0.1667\n",
      "Epoch 41/50\n",
      "163/163 [==============================] - 1s 5ms/step - loss: 0.7983 - recall_10: 0.4653 - val_loss: 0.9431 - val_recall_10: 0.1453\n",
      "Epoch 42/50\n",
      "163/163 [==============================] - 1s 5ms/step - loss: 0.7857 - recall_10: 0.4549 - val_loss: 1.3526 - val_recall_10: 0.0128\n",
      "Epoch 43/50\n",
      "163/163 [==============================] - 1s 5ms/step - loss: 0.8032 - recall_10: 0.4609 - val_loss: 1.1421 - val_recall_10: 0.0427\n",
      "Epoch 44/50\n",
      "163/163 [==============================] - 1s 6ms/step - loss: 0.7532 - recall_10: 0.4877 - val_loss: 1.1933 - val_recall_10: 0.0427\n",
      "Epoch 45/50\n",
      "163/163 [==============================] - 1s 4ms/step - loss: 0.8112 - recall_10: 0.4683 - val_loss: 1.7812 - val_recall_10: 0.0000e+00\n",
      "Epoch 46/50\n",
      "163/163 [==============================] - 1s 6ms/step - loss: 0.7867 - recall_10: 0.4810 - val_loss: 0.9385 - val_recall_10: 0.1453\n",
      "Epoch 47/50\n",
      "163/163 [==============================] - 1s 6ms/step - loss: 0.7707 - recall_10: 0.4877 - val_loss: 0.8825 - val_recall_10: 0.9701\n",
      "Epoch 48/50\n",
      "163/163 [==============================] - 1s 4ms/step - loss: 0.8152 - recall_10: 0.4691 - val_loss: 1.7783 - val_recall_10: 0.0000e+00\n",
      "Epoch 49/50\n",
      "163/163 [==============================] - 1s 6ms/step - loss: 0.7867 - recall_10: 0.4653 - val_loss: 0.8733 - val_recall_10: 0.1880\n",
      "Epoch 50/50\n",
      "163/163 [==============================] - 1s 5ms/step - loss: 0.7865 - recall_10: 0.4974 - val_loss: 1.0807 - val_recall_10: 0.0598\n"
     ]
    }
   ],
   "source": [
    "L1_result = L1_model.fit(train_img,\n",
    "                    train_y,\n",
    "                    epochs=50,\n",
    "                    class_weight = class_weight,\n",
    "                    batch_size=32,\n",
    "                    validation_data=(val_img, val_y))"
   ]
  },
  {
   "cell_type": "code",
   "execution_count": 85,
   "metadata": {
    "scrolled": true
   },
   "outputs": [
    {
     "name": "stdout",
     "output_type": "stream",
     "text": [
      "163/163 [==============================] - 0s 2ms/step - loss: 0.5949 - recall_10: 0.4169\n",
      "20/20 [==============================] - 0s 2ms/step - loss: 1.0807 - recall_10: 0.0598\n",
      "[0.07539720833301544, 0.9276659488677979]\n",
      "[1.0559560060501099, 0.3076923191547394]\n",
      "[0.09835421293973923, 0.9753915071487427]\n",
      "[0.8245831727981567, 0.47863247990608215]\n",
      "[0.5949401259422302, 0.4168531000614166]\n",
      "[1.080660343170166, 0.05982905998826027]\n"
     ]
    }
   ],
   "source": [
    "L1_results_train = L1_model.evaluate(train_img, train_y)\n",
    "L1_results_val = L1_model.evaluate(val_img, val_y)\n",
    "\n",
    "print(first_results_train)\n",
    "print(first_results_val)\n",
    "print(cb_first_results_train)\n",
    "print(cb_first_results_val)\n",
    "print(L1_results_train)\n",
    "print(L1_results_val)"
   ]
  },
  {
   "cell_type": "markdown",
   "metadata": {},
   "source": [
    "# CNN"
   ]
  },
  {
   "cell_type": "code",
   "execution_count": 116,
   "metadata": {},
   "outputs": [
    {
     "data": {
      "text/plain": [
       "(5216, 12288)"
      ]
     },
     "execution_count": 116,
     "metadata": {},
     "output_type": "execute_result"
    }
   ],
   "source": [
    "train_img.shape"
   ]
  },
  {
   "cell_type": "code",
   "execution_count": 122,
   "metadata": {},
   "outputs": [
    {
     "ename": "ValueError",
     "evalue": "Input 0 of layer conv2d_25 is incompatible with the layer: : expected min_ndim=4, found ndim=2. Full shape received: [None, 12288]",
     "output_type": "error",
     "traceback": [
      "\u001b[0;31m---------------------------------------------------------------------------\u001b[0m",
      "\u001b[0;31mValueError\u001b[0m                                Traceback (most recent call last)",
      "\u001b[0;32m<ipython-input-122-6b25e2c4d2c8>\u001b[0m in \u001b[0;36m<module>\u001b[0;34m\u001b[0m\n\u001b[1;32m      1\u001b[0m \u001b[0mmodel\u001b[0m \u001b[0;34m=\u001b[0m \u001b[0mmodels\u001b[0m\u001b[0;34m.\u001b[0m\u001b[0mSequential\u001b[0m\u001b[0;34m(\u001b[0m\u001b[0;34m)\u001b[0m\u001b[0;34m\u001b[0m\u001b[0;34m\u001b[0m\u001b[0m\n\u001b[0;32m----> 2\u001b[0;31m model.add(layers.Conv2D(32, (3, 3), activation='relu',\n\u001b[0m\u001b[1;32m      3\u001b[0m                         input_shape=(12288,)))\n\u001b[1;32m      4\u001b[0m \u001b[0mmodel\u001b[0m\u001b[0;34m.\u001b[0m\u001b[0madd\u001b[0m\u001b[0;34m(\u001b[0m\u001b[0mlayers\u001b[0m\u001b[0;34m.\u001b[0m\u001b[0mMaxPooling2D\u001b[0m\u001b[0;34m(\u001b[0m\u001b[0;34m(\u001b[0m\u001b[0;36m2\u001b[0m\u001b[0;34m,\u001b[0m \u001b[0;36m2\u001b[0m\u001b[0;34m)\u001b[0m\u001b[0;34m)\u001b[0m\u001b[0;34m)\u001b[0m\u001b[0;34m\u001b[0m\u001b[0;34m\u001b[0m\u001b[0m\n\u001b[1;32m      5\u001b[0m \u001b[0;34m\u001b[0m\u001b[0m\n",
      "\u001b[0;32m~/opt/anaconda3/envs/learn-env/lib/python3.8/site-packages/tensorflow/python/training/tracking/base.py\u001b[0m in \u001b[0;36m_method_wrapper\u001b[0;34m(self, *args, **kwargs)\u001b[0m\n\u001b[1;32m    455\u001b[0m     \u001b[0mself\u001b[0m\u001b[0;34m.\u001b[0m\u001b[0m_self_setattr_tracking\u001b[0m \u001b[0;34m=\u001b[0m \u001b[0;32mFalse\u001b[0m  \u001b[0;31m# pylint: disable=protected-access\u001b[0m\u001b[0;34m\u001b[0m\u001b[0;34m\u001b[0m\u001b[0m\n\u001b[1;32m    456\u001b[0m     \u001b[0;32mtry\u001b[0m\u001b[0;34m:\u001b[0m\u001b[0;34m\u001b[0m\u001b[0;34m\u001b[0m\u001b[0m\n\u001b[0;32m--> 457\u001b[0;31m       \u001b[0mresult\u001b[0m \u001b[0;34m=\u001b[0m \u001b[0mmethod\u001b[0m\u001b[0;34m(\u001b[0m\u001b[0mself\u001b[0m\u001b[0;34m,\u001b[0m \u001b[0;34m*\u001b[0m\u001b[0margs\u001b[0m\u001b[0;34m,\u001b[0m \u001b[0;34m**\u001b[0m\u001b[0mkwargs\u001b[0m\u001b[0;34m)\u001b[0m\u001b[0;34m\u001b[0m\u001b[0;34m\u001b[0m\u001b[0m\n\u001b[0m\u001b[1;32m    458\u001b[0m     \u001b[0;32mfinally\u001b[0m\u001b[0;34m:\u001b[0m\u001b[0;34m\u001b[0m\u001b[0;34m\u001b[0m\u001b[0m\n\u001b[1;32m    459\u001b[0m       \u001b[0mself\u001b[0m\u001b[0;34m.\u001b[0m\u001b[0m_self_setattr_tracking\u001b[0m \u001b[0;34m=\u001b[0m \u001b[0mprevious_value\u001b[0m  \u001b[0;31m# pylint: disable=protected-access\u001b[0m\u001b[0;34m\u001b[0m\u001b[0;34m\u001b[0m\u001b[0m\n",
      "\u001b[0;32m~/opt/anaconda3/envs/learn-env/lib/python3.8/site-packages/tensorflow/python/keras/engine/sequential.py\u001b[0m in \u001b[0;36madd\u001b[0;34m(self, layer)\u001b[0m\n\u001b[1;32m    204\u001b[0m           \u001b[0;31m# and create the node connecting the current layer\u001b[0m\u001b[0;34m\u001b[0m\u001b[0;34m\u001b[0m\u001b[0;34m\u001b[0m\u001b[0m\n\u001b[1;32m    205\u001b[0m           \u001b[0;31m# to the input layer we just created.\u001b[0m\u001b[0;34m\u001b[0m\u001b[0;34m\u001b[0m\u001b[0;34m\u001b[0m\u001b[0m\n\u001b[0;32m--> 206\u001b[0;31m           \u001b[0mlayer\u001b[0m\u001b[0;34m(\u001b[0m\u001b[0mx\u001b[0m\u001b[0;34m)\u001b[0m\u001b[0;34m\u001b[0m\u001b[0;34m\u001b[0m\u001b[0m\n\u001b[0m\u001b[1;32m    207\u001b[0m           \u001b[0mset_inputs\u001b[0m \u001b[0;34m=\u001b[0m \u001b[0;32mTrue\u001b[0m\u001b[0;34m\u001b[0m\u001b[0;34m\u001b[0m\u001b[0m\n\u001b[1;32m    208\u001b[0m \u001b[0;34m\u001b[0m\u001b[0m\n",
      "\u001b[0;32m~/opt/anaconda3/envs/learn-env/lib/python3.8/site-packages/tensorflow/python/keras/engine/base_layer.py\u001b[0m in \u001b[0;36m__call__\u001b[0;34m(self, *args, **kwargs)\u001b[0m\n\u001b[1;32m    923\u001b[0m     \u001b[0;31m# >> model = tf.keras.Model(inputs, outputs)\u001b[0m\u001b[0;34m\u001b[0m\u001b[0;34m\u001b[0m\u001b[0;34m\u001b[0m\u001b[0m\n\u001b[1;32m    924\u001b[0m     \u001b[0;32mif\u001b[0m \u001b[0m_in_functional_construction_mode\u001b[0m\u001b[0;34m(\u001b[0m\u001b[0mself\u001b[0m\u001b[0;34m,\u001b[0m \u001b[0minputs\u001b[0m\u001b[0;34m,\u001b[0m \u001b[0margs\u001b[0m\u001b[0;34m,\u001b[0m \u001b[0mkwargs\u001b[0m\u001b[0;34m,\u001b[0m \u001b[0minput_list\u001b[0m\u001b[0;34m)\u001b[0m\u001b[0;34m:\u001b[0m\u001b[0;34m\u001b[0m\u001b[0;34m\u001b[0m\u001b[0m\n\u001b[0;32m--> 925\u001b[0;31m       return self._functional_construction_call(inputs, args, kwargs,\n\u001b[0m\u001b[1;32m    926\u001b[0m                                                 input_list)\n\u001b[1;32m    927\u001b[0m \u001b[0;34m\u001b[0m\u001b[0m\n",
      "\u001b[0;32m~/opt/anaconda3/envs/learn-env/lib/python3.8/site-packages/tensorflow/python/keras/engine/base_layer.py\u001b[0m in \u001b[0;36m_functional_construction_call\u001b[0;34m(self, inputs, args, kwargs, input_list)\u001b[0m\n\u001b[1;32m   1090\u001b[0m       \u001b[0;31m# TODO(reedwm): We should assert input compatibility after the inputs\u001b[0m\u001b[0;34m\u001b[0m\u001b[0;34m\u001b[0m\u001b[0;34m\u001b[0m\u001b[0m\n\u001b[1;32m   1091\u001b[0m       \u001b[0;31m# are casted, not before.\u001b[0m\u001b[0;34m\u001b[0m\u001b[0;34m\u001b[0m\u001b[0;34m\u001b[0m\u001b[0m\n\u001b[0;32m-> 1092\u001b[0;31m       \u001b[0minput_spec\u001b[0m\u001b[0;34m.\u001b[0m\u001b[0massert_input_compatibility\u001b[0m\u001b[0;34m(\u001b[0m\u001b[0mself\u001b[0m\u001b[0;34m.\u001b[0m\u001b[0minput_spec\u001b[0m\u001b[0;34m,\u001b[0m \u001b[0minputs\u001b[0m\u001b[0;34m,\u001b[0m \u001b[0mself\u001b[0m\u001b[0;34m.\u001b[0m\u001b[0mname\u001b[0m\u001b[0;34m)\u001b[0m\u001b[0;34m\u001b[0m\u001b[0;34m\u001b[0m\u001b[0m\n\u001b[0m\u001b[1;32m   1093\u001b[0m       \u001b[0mgraph\u001b[0m \u001b[0;34m=\u001b[0m \u001b[0mbackend\u001b[0m\u001b[0;34m.\u001b[0m\u001b[0mget_graph\u001b[0m\u001b[0;34m(\u001b[0m\u001b[0;34m)\u001b[0m\u001b[0;34m\u001b[0m\u001b[0;34m\u001b[0m\u001b[0m\n\u001b[1;32m   1094\u001b[0m       \u001b[0;31m# Use `self._name_scope()` to avoid auto-incrementing the name.\u001b[0m\u001b[0;34m\u001b[0m\u001b[0;34m\u001b[0m\u001b[0;34m\u001b[0m\u001b[0m\n",
      "\u001b[0;32m~/opt/anaconda3/envs/learn-env/lib/python3.8/site-packages/tensorflow/python/keras/engine/input_spec.py\u001b[0m in \u001b[0;36massert_input_compatibility\u001b[0;34m(input_spec, inputs, layer_name)\u001b[0m\n\u001b[1;32m    189\u001b[0m       \u001b[0mndim\u001b[0m \u001b[0;34m=\u001b[0m \u001b[0mx\u001b[0m\u001b[0;34m.\u001b[0m\u001b[0mshape\u001b[0m\u001b[0;34m.\u001b[0m\u001b[0mndims\u001b[0m\u001b[0;34m\u001b[0m\u001b[0;34m\u001b[0m\u001b[0m\n\u001b[1;32m    190\u001b[0m       \u001b[0;32mif\u001b[0m \u001b[0mndim\u001b[0m \u001b[0;32mis\u001b[0m \u001b[0;32mnot\u001b[0m \u001b[0;32mNone\u001b[0m \u001b[0;32mand\u001b[0m \u001b[0mndim\u001b[0m \u001b[0;34m<\u001b[0m \u001b[0mspec\u001b[0m\u001b[0;34m.\u001b[0m\u001b[0mmin_ndim\u001b[0m\u001b[0;34m:\u001b[0m\u001b[0;34m\u001b[0m\u001b[0;34m\u001b[0m\u001b[0m\n\u001b[0;32m--> 191\u001b[0;31m         raise ValueError('Input ' + str(input_index) + ' of layer ' +\n\u001b[0m\u001b[1;32m    192\u001b[0m                          \u001b[0mlayer_name\u001b[0m \u001b[0;34m+\u001b[0m \u001b[0;34m' is incompatible with the layer: '\u001b[0m\u001b[0;34m\u001b[0m\u001b[0;34m\u001b[0m\u001b[0m\n\u001b[1;32m    193\u001b[0m                          \u001b[0;34m': expected min_ndim='\u001b[0m \u001b[0;34m+\u001b[0m \u001b[0mstr\u001b[0m\u001b[0;34m(\u001b[0m\u001b[0mspec\u001b[0m\u001b[0;34m.\u001b[0m\u001b[0mmin_ndim\u001b[0m\u001b[0;34m)\u001b[0m \u001b[0;34m+\u001b[0m\u001b[0;34m\u001b[0m\u001b[0;34m\u001b[0m\u001b[0m\n",
      "\u001b[0;31mValueError\u001b[0m: Input 0 of layer conv2d_25 is incompatible with the layer: : expected min_ndim=4, found ndim=2. Full shape received: [None, 12288]"
     ]
    }
   ],
   "source": [
    "model = models.Sequential()\n",
    "model.add(layers.Conv2D(32, (3, 3), activation='relu',\n",
    "                        input_shape=(12288,)))\n",
    "model.add(layers.MaxPooling2D((2, 2)))\n",
    "\n",
    "model.add(layers.Conv2D(32, (4, 4), activation='relu'))\n",
    "model.add(layers.MaxPooling2D((2, 2)))\n",
    "\n",
    "model.add(layers.Conv2D(64, (3, 3), activation='relu'))\n",
    "model.add(layers.MaxPooling2D((2, 2)))\n",
    "\n",
    "model.add(layers.Flatten())\n",
    "model.add(layers.Dense(64, activation='relu'))\n",
    "model.add(layers.Dense(1, activation='sigmoid'))\n",
    "\n",
    "model.compile(loss='binary_crossentropy',\n",
    "              optimizer=\"sgd\",\n",
    "              metrics=[tf.keras.metrics.Recall()])"
   ]
  },
  {
   "cell_type": "code",
   "execution_count": 119,
   "metadata": {},
   "outputs": [
    {
     "name": "stdout",
     "output_type": "stream",
     "text": [
      "Epoch 1/30\n"
     ]
    },
    {
     "ename": "ValueError",
     "evalue": "in user code:\n\n    /Users/jaclynhenn/opt/anaconda3/envs/learn-env/lib/python3.8/site-packages/tensorflow/python/keras/engine/training.py:806 train_function  *\n        return step_function(self, iterator)\n    /Users/jaclynhenn/opt/anaconda3/envs/learn-env/lib/python3.8/site-packages/tensorflow/python/keras/engine/training.py:796 step_function  **\n        outputs = model.distribute_strategy.run(run_step, args=(data,))\n    /Users/jaclynhenn/opt/anaconda3/envs/learn-env/lib/python3.8/site-packages/tensorflow/python/distribute/distribute_lib.py:1211 run\n        return self._extended.call_for_each_replica(fn, args=args, kwargs=kwargs)\n    /Users/jaclynhenn/opt/anaconda3/envs/learn-env/lib/python3.8/site-packages/tensorflow/python/distribute/distribute_lib.py:2585 call_for_each_replica\n        return self._call_for_each_replica(fn, args, kwargs)\n    /Users/jaclynhenn/opt/anaconda3/envs/learn-env/lib/python3.8/site-packages/tensorflow/python/distribute/distribute_lib.py:2945 _call_for_each_replica\n        return fn(*args, **kwargs)\n    /Users/jaclynhenn/opt/anaconda3/envs/learn-env/lib/python3.8/site-packages/tensorflow/python/keras/engine/training.py:789 run_step  **\n        outputs = model.train_step(data)\n    /Users/jaclynhenn/opt/anaconda3/envs/learn-env/lib/python3.8/site-packages/tensorflow/python/keras/engine/training.py:747 train_step\n        y_pred = self(x, training=True)\n    /Users/jaclynhenn/opt/anaconda3/envs/learn-env/lib/python3.8/site-packages/tensorflow/python/keras/engine/base_layer.py:975 __call__\n        input_spec.assert_input_compatibility(self.input_spec, inputs,\n    /Users/jaclynhenn/opt/anaconda3/envs/learn-env/lib/python3.8/site-packages/tensorflow/python/keras/engine/input_spec.py:191 assert_input_compatibility\n        raise ValueError('Input ' + str(input_index) + ' of layer ' +\n\n    ValueError: Input 0 of layer sequential_24 is incompatible with the layer: : expected min_ndim=4, found ndim=2. Full shape received: [32, 12288]\n",
     "output_type": "error",
     "traceback": [
      "\u001b[0;31m---------------------------------------------------------------------------\u001b[0m",
      "\u001b[0;31mValueError\u001b[0m                                Traceback (most recent call last)",
      "\u001b[0;32m<ipython-input-119-66326dc24acd>\u001b[0m in \u001b[0;36m<module>\u001b[0;34m\u001b[0m\n\u001b[0;32m----> 1\u001b[0;31m model_result = model.fit(train_img,\n\u001b[0m\u001b[1;32m      2\u001b[0m                     \u001b[0mtrain_y\u001b[0m\u001b[0;34m,\u001b[0m\u001b[0;34m\u001b[0m\u001b[0;34m\u001b[0m\u001b[0m\n\u001b[1;32m      3\u001b[0m                     \u001b[0mepochs\u001b[0m\u001b[0;34m=\u001b[0m\u001b[0;36m30\u001b[0m\u001b[0;34m,\u001b[0m\u001b[0;34m\u001b[0m\u001b[0;34m\u001b[0m\u001b[0m\n\u001b[1;32m      4\u001b[0m                     \u001b[0mclass_weight\u001b[0m \u001b[0;34m=\u001b[0m \u001b[0mclass_weight\u001b[0m\u001b[0;34m,\u001b[0m\u001b[0;34m\u001b[0m\u001b[0;34m\u001b[0m\u001b[0m\n\u001b[1;32m      5\u001b[0m                     \u001b[0mbatch_size\u001b[0m\u001b[0;34m=\u001b[0m\u001b[0;36m32\u001b[0m\u001b[0;34m,\u001b[0m\u001b[0;34m\u001b[0m\u001b[0;34m\u001b[0m\u001b[0m\n",
      "\u001b[0;32m~/opt/anaconda3/envs/learn-env/lib/python3.8/site-packages/tensorflow/python/keras/engine/training.py\u001b[0m in \u001b[0;36m_method_wrapper\u001b[0;34m(self, *args, **kwargs)\u001b[0m\n\u001b[1;32m    106\u001b[0m   \u001b[0;32mdef\u001b[0m \u001b[0m_method_wrapper\u001b[0m\u001b[0;34m(\u001b[0m\u001b[0mself\u001b[0m\u001b[0;34m,\u001b[0m \u001b[0;34m*\u001b[0m\u001b[0margs\u001b[0m\u001b[0;34m,\u001b[0m \u001b[0;34m**\u001b[0m\u001b[0mkwargs\u001b[0m\u001b[0;34m)\u001b[0m\u001b[0;34m:\u001b[0m\u001b[0;34m\u001b[0m\u001b[0;34m\u001b[0m\u001b[0m\n\u001b[1;32m    107\u001b[0m     \u001b[0;32mif\u001b[0m \u001b[0;32mnot\u001b[0m \u001b[0mself\u001b[0m\u001b[0;34m.\u001b[0m\u001b[0m_in_multi_worker_mode\u001b[0m\u001b[0;34m(\u001b[0m\u001b[0;34m)\u001b[0m\u001b[0;34m:\u001b[0m  \u001b[0;31m# pylint: disable=protected-access\u001b[0m\u001b[0;34m\u001b[0m\u001b[0;34m\u001b[0m\u001b[0m\n\u001b[0;32m--> 108\u001b[0;31m       \u001b[0;32mreturn\u001b[0m \u001b[0mmethod\u001b[0m\u001b[0;34m(\u001b[0m\u001b[0mself\u001b[0m\u001b[0;34m,\u001b[0m \u001b[0;34m*\u001b[0m\u001b[0margs\u001b[0m\u001b[0;34m,\u001b[0m \u001b[0;34m**\u001b[0m\u001b[0mkwargs\u001b[0m\u001b[0;34m)\u001b[0m\u001b[0;34m\u001b[0m\u001b[0;34m\u001b[0m\u001b[0m\n\u001b[0m\u001b[1;32m    109\u001b[0m \u001b[0;34m\u001b[0m\u001b[0m\n\u001b[1;32m    110\u001b[0m     \u001b[0;31m# Running inside `run_distribute_coordinator` already.\u001b[0m\u001b[0;34m\u001b[0m\u001b[0;34m\u001b[0m\u001b[0;34m\u001b[0m\u001b[0m\n",
      "\u001b[0;32m~/opt/anaconda3/envs/learn-env/lib/python3.8/site-packages/tensorflow/python/keras/engine/training.py\u001b[0m in \u001b[0;36mfit\u001b[0;34m(self, x, y, batch_size, epochs, verbose, callbacks, validation_split, validation_data, shuffle, class_weight, sample_weight, initial_epoch, steps_per_epoch, validation_steps, validation_batch_size, validation_freq, max_queue_size, workers, use_multiprocessing)\u001b[0m\n\u001b[1;32m   1096\u001b[0m                 batch_size=batch_size):\n\u001b[1;32m   1097\u001b[0m               \u001b[0mcallbacks\u001b[0m\u001b[0;34m.\u001b[0m\u001b[0mon_train_batch_begin\u001b[0m\u001b[0;34m(\u001b[0m\u001b[0mstep\u001b[0m\u001b[0;34m)\u001b[0m\u001b[0;34m\u001b[0m\u001b[0;34m\u001b[0m\u001b[0m\n\u001b[0;32m-> 1098\u001b[0;31m               \u001b[0mtmp_logs\u001b[0m \u001b[0;34m=\u001b[0m \u001b[0mtrain_function\u001b[0m\u001b[0;34m(\u001b[0m\u001b[0miterator\u001b[0m\u001b[0;34m)\u001b[0m\u001b[0;34m\u001b[0m\u001b[0;34m\u001b[0m\u001b[0m\n\u001b[0m\u001b[1;32m   1099\u001b[0m               \u001b[0;32mif\u001b[0m \u001b[0mdata_handler\u001b[0m\u001b[0;34m.\u001b[0m\u001b[0mshould_sync\u001b[0m\u001b[0;34m:\u001b[0m\u001b[0;34m\u001b[0m\u001b[0;34m\u001b[0m\u001b[0m\n\u001b[1;32m   1100\u001b[0m                 \u001b[0mcontext\u001b[0m\u001b[0;34m.\u001b[0m\u001b[0masync_wait\u001b[0m\u001b[0;34m(\u001b[0m\u001b[0;34m)\u001b[0m\u001b[0;34m\u001b[0m\u001b[0;34m\u001b[0m\u001b[0m\n",
      "\u001b[0;32m~/opt/anaconda3/envs/learn-env/lib/python3.8/site-packages/tensorflow/python/eager/def_function.py\u001b[0m in \u001b[0;36m__call__\u001b[0;34m(self, *args, **kwds)\u001b[0m\n\u001b[1;32m    778\u001b[0m       \u001b[0;32melse\u001b[0m\u001b[0;34m:\u001b[0m\u001b[0;34m\u001b[0m\u001b[0;34m\u001b[0m\u001b[0m\n\u001b[1;32m    779\u001b[0m         \u001b[0mcompiler\u001b[0m \u001b[0;34m=\u001b[0m \u001b[0;34m\"nonXla\"\u001b[0m\u001b[0;34m\u001b[0m\u001b[0;34m\u001b[0m\u001b[0m\n\u001b[0;32m--> 780\u001b[0;31m         \u001b[0mresult\u001b[0m \u001b[0;34m=\u001b[0m \u001b[0mself\u001b[0m\u001b[0;34m.\u001b[0m\u001b[0m_call\u001b[0m\u001b[0;34m(\u001b[0m\u001b[0;34m*\u001b[0m\u001b[0margs\u001b[0m\u001b[0;34m,\u001b[0m \u001b[0;34m**\u001b[0m\u001b[0mkwds\u001b[0m\u001b[0;34m)\u001b[0m\u001b[0;34m\u001b[0m\u001b[0;34m\u001b[0m\u001b[0m\n\u001b[0m\u001b[1;32m    781\u001b[0m \u001b[0;34m\u001b[0m\u001b[0m\n\u001b[1;32m    782\u001b[0m       \u001b[0mnew_tracing_count\u001b[0m \u001b[0;34m=\u001b[0m \u001b[0mself\u001b[0m\u001b[0;34m.\u001b[0m\u001b[0m_get_tracing_count\u001b[0m\u001b[0;34m(\u001b[0m\u001b[0;34m)\u001b[0m\u001b[0;34m\u001b[0m\u001b[0;34m\u001b[0m\u001b[0m\n",
      "\u001b[0;32m~/opt/anaconda3/envs/learn-env/lib/python3.8/site-packages/tensorflow/python/eager/def_function.py\u001b[0m in \u001b[0;36m_call\u001b[0;34m(self, *args, **kwds)\u001b[0m\n\u001b[1;32m    821\u001b[0m       \u001b[0;31m# This is the first call of __call__, so we have to initialize.\u001b[0m\u001b[0;34m\u001b[0m\u001b[0;34m\u001b[0m\u001b[0;34m\u001b[0m\u001b[0m\n\u001b[1;32m    822\u001b[0m       \u001b[0minitializers\u001b[0m \u001b[0;34m=\u001b[0m \u001b[0;34m[\u001b[0m\u001b[0;34m]\u001b[0m\u001b[0;34m\u001b[0m\u001b[0;34m\u001b[0m\u001b[0m\n\u001b[0;32m--> 823\u001b[0;31m       \u001b[0mself\u001b[0m\u001b[0;34m.\u001b[0m\u001b[0m_initialize\u001b[0m\u001b[0;34m(\u001b[0m\u001b[0margs\u001b[0m\u001b[0;34m,\u001b[0m \u001b[0mkwds\u001b[0m\u001b[0;34m,\u001b[0m \u001b[0madd_initializers_to\u001b[0m\u001b[0;34m=\u001b[0m\u001b[0minitializers\u001b[0m\u001b[0;34m)\u001b[0m\u001b[0;34m\u001b[0m\u001b[0;34m\u001b[0m\u001b[0m\n\u001b[0m\u001b[1;32m    824\u001b[0m     \u001b[0;32mfinally\u001b[0m\u001b[0;34m:\u001b[0m\u001b[0;34m\u001b[0m\u001b[0;34m\u001b[0m\u001b[0m\n\u001b[1;32m    825\u001b[0m       \u001b[0;31m# At this point we know that the initialization is complete (or less\u001b[0m\u001b[0;34m\u001b[0m\u001b[0;34m\u001b[0m\u001b[0;34m\u001b[0m\u001b[0m\n",
      "\u001b[0;32m~/opt/anaconda3/envs/learn-env/lib/python3.8/site-packages/tensorflow/python/eager/def_function.py\u001b[0m in \u001b[0;36m_initialize\u001b[0;34m(self, args, kwds, add_initializers_to)\u001b[0m\n\u001b[1;32m    694\u001b[0m     \u001b[0mself\u001b[0m\u001b[0;34m.\u001b[0m\u001b[0m_graph_deleter\u001b[0m \u001b[0;34m=\u001b[0m \u001b[0mFunctionDeleter\u001b[0m\u001b[0;34m(\u001b[0m\u001b[0mself\u001b[0m\u001b[0;34m.\u001b[0m\u001b[0m_lifted_initializer_graph\u001b[0m\u001b[0;34m)\u001b[0m\u001b[0;34m\u001b[0m\u001b[0;34m\u001b[0m\u001b[0m\n\u001b[1;32m    695\u001b[0m     self._concrete_stateful_fn = (\n\u001b[0;32m--> 696\u001b[0;31m         self._stateful_fn._get_concrete_function_internal_garbage_collected(  # pylint: disable=protected-access\n\u001b[0m\u001b[1;32m    697\u001b[0m             *args, **kwds))\n\u001b[1;32m    698\u001b[0m \u001b[0;34m\u001b[0m\u001b[0m\n",
      "\u001b[0;32m~/opt/anaconda3/envs/learn-env/lib/python3.8/site-packages/tensorflow/python/eager/function.py\u001b[0m in \u001b[0;36m_get_concrete_function_internal_garbage_collected\u001b[0;34m(self, *args, **kwargs)\u001b[0m\n\u001b[1;32m   2853\u001b[0m       \u001b[0margs\u001b[0m\u001b[0;34m,\u001b[0m \u001b[0mkwargs\u001b[0m \u001b[0;34m=\u001b[0m \u001b[0;32mNone\u001b[0m\u001b[0;34m,\u001b[0m \u001b[0;32mNone\u001b[0m\u001b[0;34m\u001b[0m\u001b[0;34m\u001b[0m\u001b[0m\n\u001b[1;32m   2854\u001b[0m     \u001b[0;32mwith\u001b[0m \u001b[0mself\u001b[0m\u001b[0;34m.\u001b[0m\u001b[0m_lock\u001b[0m\u001b[0;34m:\u001b[0m\u001b[0;34m\u001b[0m\u001b[0;34m\u001b[0m\u001b[0m\n\u001b[0;32m-> 2855\u001b[0;31m       \u001b[0mgraph_function\u001b[0m\u001b[0;34m,\u001b[0m \u001b[0m_\u001b[0m\u001b[0;34m,\u001b[0m \u001b[0m_\u001b[0m \u001b[0;34m=\u001b[0m \u001b[0mself\u001b[0m\u001b[0;34m.\u001b[0m\u001b[0m_maybe_define_function\u001b[0m\u001b[0;34m(\u001b[0m\u001b[0margs\u001b[0m\u001b[0;34m,\u001b[0m \u001b[0mkwargs\u001b[0m\u001b[0;34m)\u001b[0m\u001b[0;34m\u001b[0m\u001b[0;34m\u001b[0m\u001b[0m\n\u001b[0m\u001b[1;32m   2856\u001b[0m     \u001b[0;32mreturn\u001b[0m \u001b[0mgraph_function\u001b[0m\u001b[0;34m\u001b[0m\u001b[0;34m\u001b[0m\u001b[0m\n\u001b[1;32m   2857\u001b[0m \u001b[0;34m\u001b[0m\u001b[0m\n",
      "\u001b[0;32m~/opt/anaconda3/envs/learn-env/lib/python3.8/site-packages/tensorflow/python/eager/function.py\u001b[0m in \u001b[0;36m_maybe_define_function\u001b[0;34m(self, args, kwargs)\u001b[0m\n\u001b[1;32m   3211\u001b[0m \u001b[0;34m\u001b[0m\u001b[0m\n\u001b[1;32m   3212\u001b[0m       \u001b[0mself\u001b[0m\u001b[0;34m.\u001b[0m\u001b[0m_function_cache\u001b[0m\u001b[0;34m.\u001b[0m\u001b[0mmissed\u001b[0m\u001b[0;34m.\u001b[0m\u001b[0madd\u001b[0m\u001b[0;34m(\u001b[0m\u001b[0mcall_context_key\u001b[0m\u001b[0;34m)\u001b[0m\u001b[0;34m\u001b[0m\u001b[0;34m\u001b[0m\u001b[0m\n\u001b[0;32m-> 3213\u001b[0;31m       \u001b[0mgraph_function\u001b[0m \u001b[0;34m=\u001b[0m \u001b[0mself\u001b[0m\u001b[0;34m.\u001b[0m\u001b[0m_create_graph_function\u001b[0m\u001b[0;34m(\u001b[0m\u001b[0margs\u001b[0m\u001b[0;34m,\u001b[0m \u001b[0mkwargs\u001b[0m\u001b[0;34m)\u001b[0m\u001b[0;34m\u001b[0m\u001b[0;34m\u001b[0m\u001b[0m\n\u001b[0m\u001b[1;32m   3214\u001b[0m       \u001b[0mself\u001b[0m\u001b[0;34m.\u001b[0m\u001b[0m_function_cache\u001b[0m\u001b[0;34m.\u001b[0m\u001b[0mprimary\u001b[0m\u001b[0;34m[\u001b[0m\u001b[0mcache_key\u001b[0m\u001b[0;34m]\u001b[0m \u001b[0;34m=\u001b[0m \u001b[0mgraph_function\u001b[0m\u001b[0;34m\u001b[0m\u001b[0;34m\u001b[0m\u001b[0m\n\u001b[1;32m   3215\u001b[0m       \u001b[0;32mreturn\u001b[0m \u001b[0mgraph_function\u001b[0m\u001b[0;34m,\u001b[0m \u001b[0margs\u001b[0m\u001b[0;34m,\u001b[0m \u001b[0mkwargs\u001b[0m\u001b[0;34m\u001b[0m\u001b[0;34m\u001b[0m\u001b[0m\n",
      "\u001b[0;32m~/opt/anaconda3/envs/learn-env/lib/python3.8/site-packages/tensorflow/python/eager/function.py\u001b[0m in \u001b[0;36m_create_graph_function\u001b[0;34m(self, args, kwargs, override_flat_arg_shapes)\u001b[0m\n\u001b[1;32m   3063\u001b[0m     \u001b[0marg_names\u001b[0m \u001b[0;34m=\u001b[0m \u001b[0mbase_arg_names\u001b[0m \u001b[0;34m+\u001b[0m \u001b[0mmissing_arg_names\u001b[0m\u001b[0;34m\u001b[0m\u001b[0;34m\u001b[0m\u001b[0m\n\u001b[1;32m   3064\u001b[0m     graph_function = ConcreteFunction(\n\u001b[0;32m-> 3065\u001b[0;31m         func_graph_module.func_graph_from_py_func(\n\u001b[0m\u001b[1;32m   3066\u001b[0m             \u001b[0mself\u001b[0m\u001b[0;34m.\u001b[0m\u001b[0m_name\u001b[0m\u001b[0;34m,\u001b[0m\u001b[0;34m\u001b[0m\u001b[0;34m\u001b[0m\u001b[0m\n\u001b[1;32m   3067\u001b[0m             \u001b[0mself\u001b[0m\u001b[0;34m.\u001b[0m\u001b[0m_python_function\u001b[0m\u001b[0;34m,\u001b[0m\u001b[0;34m\u001b[0m\u001b[0;34m\u001b[0m\u001b[0m\n",
      "\u001b[0;32m~/opt/anaconda3/envs/learn-env/lib/python3.8/site-packages/tensorflow/python/framework/func_graph.py\u001b[0m in \u001b[0;36mfunc_graph_from_py_func\u001b[0;34m(name, python_func, args, kwargs, signature, func_graph, autograph, autograph_options, add_control_dependencies, arg_names, op_return_value, collections, capture_by_value, override_flat_arg_shapes)\u001b[0m\n\u001b[1;32m    984\u001b[0m         \u001b[0m_\u001b[0m\u001b[0;34m,\u001b[0m \u001b[0moriginal_func\u001b[0m \u001b[0;34m=\u001b[0m \u001b[0mtf_decorator\u001b[0m\u001b[0;34m.\u001b[0m\u001b[0munwrap\u001b[0m\u001b[0;34m(\u001b[0m\u001b[0mpython_func\u001b[0m\u001b[0;34m)\u001b[0m\u001b[0;34m\u001b[0m\u001b[0;34m\u001b[0m\u001b[0m\n\u001b[1;32m    985\u001b[0m \u001b[0;34m\u001b[0m\u001b[0m\n\u001b[0;32m--> 986\u001b[0;31m       \u001b[0mfunc_outputs\u001b[0m \u001b[0;34m=\u001b[0m \u001b[0mpython_func\u001b[0m\u001b[0;34m(\u001b[0m\u001b[0;34m*\u001b[0m\u001b[0mfunc_args\u001b[0m\u001b[0;34m,\u001b[0m \u001b[0;34m**\u001b[0m\u001b[0mfunc_kwargs\u001b[0m\u001b[0;34m)\u001b[0m\u001b[0;34m\u001b[0m\u001b[0;34m\u001b[0m\u001b[0m\n\u001b[0m\u001b[1;32m    987\u001b[0m \u001b[0;34m\u001b[0m\u001b[0m\n\u001b[1;32m    988\u001b[0m       \u001b[0;31m# invariant: `func_outputs` contains only Tensors, CompositeTensors,\u001b[0m\u001b[0;34m\u001b[0m\u001b[0;34m\u001b[0m\u001b[0;34m\u001b[0m\u001b[0m\n",
      "\u001b[0;32m~/opt/anaconda3/envs/learn-env/lib/python3.8/site-packages/tensorflow/python/eager/def_function.py\u001b[0m in \u001b[0;36mwrapped_fn\u001b[0;34m(*args, **kwds)\u001b[0m\n\u001b[1;32m    598\u001b[0m         \u001b[0;31m# __wrapped__ allows AutoGraph to swap in a converted function. We give\u001b[0m\u001b[0;34m\u001b[0m\u001b[0;34m\u001b[0m\u001b[0;34m\u001b[0m\u001b[0m\n\u001b[1;32m    599\u001b[0m         \u001b[0;31m# the function a weak reference to itself to avoid a reference cycle.\u001b[0m\u001b[0;34m\u001b[0m\u001b[0;34m\u001b[0m\u001b[0;34m\u001b[0m\u001b[0m\n\u001b[0;32m--> 600\u001b[0;31m         \u001b[0;32mreturn\u001b[0m \u001b[0mweak_wrapped_fn\u001b[0m\u001b[0;34m(\u001b[0m\u001b[0;34m)\u001b[0m\u001b[0;34m.\u001b[0m\u001b[0m__wrapped__\u001b[0m\u001b[0;34m(\u001b[0m\u001b[0;34m*\u001b[0m\u001b[0margs\u001b[0m\u001b[0;34m,\u001b[0m \u001b[0;34m**\u001b[0m\u001b[0mkwds\u001b[0m\u001b[0;34m)\u001b[0m\u001b[0;34m\u001b[0m\u001b[0;34m\u001b[0m\u001b[0m\n\u001b[0m\u001b[1;32m    601\u001b[0m     \u001b[0mweak_wrapped_fn\u001b[0m \u001b[0;34m=\u001b[0m \u001b[0mweakref\u001b[0m\u001b[0;34m.\u001b[0m\u001b[0mref\u001b[0m\u001b[0;34m(\u001b[0m\u001b[0mwrapped_fn\u001b[0m\u001b[0;34m)\u001b[0m\u001b[0;34m\u001b[0m\u001b[0;34m\u001b[0m\u001b[0m\n\u001b[1;32m    602\u001b[0m \u001b[0;34m\u001b[0m\u001b[0m\n",
      "\u001b[0;32m~/opt/anaconda3/envs/learn-env/lib/python3.8/site-packages/tensorflow/python/framework/func_graph.py\u001b[0m in \u001b[0;36mwrapper\u001b[0;34m(*args, **kwargs)\u001b[0m\n\u001b[1;32m    971\u001b[0m           \u001b[0;32mexcept\u001b[0m \u001b[0mException\u001b[0m \u001b[0;32mas\u001b[0m \u001b[0me\u001b[0m\u001b[0;34m:\u001b[0m  \u001b[0;31m# pylint:disable=broad-except\u001b[0m\u001b[0;34m\u001b[0m\u001b[0;34m\u001b[0m\u001b[0m\n\u001b[1;32m    972\u001b[0m             \u001b[0;32mif\u001b[0m \u001b[0mhasattr\u001b[0m\u001b[0;34m(\u001b[0m\u001b[0me\u001b[0m\u001b[0;34m,\u001b[0m \u001b[0;34m\"ag_error_metadata\"\u001b[0m\u001b[0;34m)\u001b[0m\u001b[0;34m:\u001b[0m\u001b[0;34m\u001b[0m\u001b[0;34m\u001b[0m\u001b[0m\n\u001b[0;32m--> 973\u001b[0;31m               \u001b[0;32mraise\u001b[0m \u001b[0me\u001b[0m\u001b[0;34m.\u001b[0m\u001b[0mag_error_metadata\u001b[0m\u001b[0;34m.\u001b[0m\u001b[0mto_exception\u001b[0m\u001b[0;34m(\u001b[0m\u001b[0me\u001b[0m\u001b[0;34m)\u001b[0m\u001b[0;34m\u001b[0m\u001b[0;34m\u001b[0m\u001b[0m\n\u001b[0m\u001b[1;32m    974\u001b[0m             \u001b[0;32melse\u001b[0m\u001b[0;34m:\u001b[0m\u001b[0;34m\u001b[0m\u001b[0;34m\u001b[0m\u001b[0m\n\u001b[1;32m    975\u001b[0m               \u001b[0;32mraise\u001b[0m\u001b[0;34m\u001b[0m\u001b[0;34m\u001b[0m\u001b[0m\n",
      "\u001b[0;31mValueError\u001b[0m: in user code:\n\n    /Users/jaclynhenn/opt/anaconda3/envs/learn-env/lib/python3.8/site-packages/tensorflow/python/keras/engine/training.py:806 train_function  *\n        return step_function(self, iterator)\n    /Users/jaclynhenn/opt/anaconda3/envs/learn-env/lib/python3.8/site-packages/tensorflow/python/keras/engine/training.py:796 step_function  **\n        outputs = model.distribute_strategy.run(run_step, args=(data,))\n    /Users/jaclynhenn/opt/anaconda3/envs/learn-env/lib/python3.8/site-packages/tensorflow/python/distribute/distribute_lib.py:1211 run\n        return self._extended.call_for_each_replica(fn, args=args, kwargs=kwargs)\n    /Users/jaclynhenn/opt/anaconda3/envs/learn-env/lib/python3.8/site-packages/tensorflow/python/distribute/distribute_lib.py:2585 call_for_each_replica\n        return self._call_for_each_replica(fn, args, kwargs)\n    /Users/jaclynhenn/opt/anaconda3/envs/learn-env/lib/python3.8/site-packages/tensorflow/python/distribute/distribute_lib.py:2945 _call_for_each_replica\n        return fn(*args, **kwargs)\n    /Users/jaclynhenn/opt/anaconda3/envs/learn-env/lib/python3.8/site-packages/tensorflow/python/keras/engine/training.py:789 run_step  **\n        outputs = model.train_step(data)\n    /Users/jaclynhenn/opt/anaconda3/envs/learn-env/lib/python3.8/site-packages/tensorflow/python/keras/engine/training.py:747 train_step\n        y_pred = self(x, training=True)\n    /Users/jaclynhenn/opt/anaconda3/envs/learn-env/lib/python3.8/site-packages/tensorflow/python/keras/engine/base_layer.py:975 __call__\n        input_spec.assert_input_compatibility(self.input_spec, inputs,\n    /Users/jaclynhenn/opt/anaconda3/envs/learn-env/lib/python3.8/site-packages/tensorflow/python/keras/engine/input_spec.py:191 assert_input_compatibility\n        raise ValueError('Input ' + str(input_index) + ' of layer ' +\n\n    ValueError: Input 0 of layer sequential_24 is incompatible with the layer: : expected min_ndim=4, found ndim=2. Full shape received: [32, 12288]\n"
     ]
    }
   ],
   "source": [
    "model_result = model.fit(train_img,\n",
    "                    train_y,\n",
    "                    epochs=30,\n",
    "                    class_weight = class_weight,\n",
    "                    batch_size=32,\n",
    "                    validation_data=(val_img, val_y))"
   ]
  },
  {
   "cell_type": "code",
   "execution_count": null,
   "metadata": {},
   "outputs": [],
   "source": []
  },
  {
   "cell_type": "code",
   "execution_count": null,
   "metadata": {},
   "outputs": [],
   "source": []
  },
  {
   "cell_type": "code",
   "execution_count": null,
   "metadata": {},
   "outputs": [],
   "source": []
  },
  {
   "cell_type": "code",
   "execution_count": null,
   "metadata": {},
   "outputs": [],
   "source": []
  },
  {
   "cell_type": "code",
   "execution_count": null,
   "metadata": {},
   "outputs": [],
   "source": []
  },
  {
   "cell_type": "code",
   "execution_count": null,
   "metadata": {},
   "outputs": [],
   "source": []
  },
  {
   "cell_type": "code",
   "execution_count": null,
   "metadata": {},
   "outputs": [],
   "source": []
  },
  {
   "cell_type": "code",
   "execution_count": null,
   "metadata": {},
   "outputs": [],
   "source": []
  },
  {
   "cell_type": "code",
   "execution_count": null,
   "metadata": {},
   "outputs": [],
   "source": []
  },
  {
   "cell_type": "code",
   "execution_count": null,
   "metadata": {},
   "outputs": [],
   "source": []
  },
  {
   "cell_type": "code",
   "execution_count": null,
   "metadata": {},
   "outputs": [],
   "source": []
  },
  {
   "cell_type": "code",
   "execution_count": null,
   "metadata": {},
   "outputs": [],
   "source": []
  },
  {
   "cell_type": "markdown",
   "metadata": {},
   "source": [
    "**Second Model**"
   ]
  },
  {
   "cell_type": "code",
   "execution_count": null,
   "metadata": {},
   "outputs": [],
   "source": [
    "second_model = models.Sequential()\n",
    "second_model.add(layers.Dense(20, activation='relu', input_shape=(12288,)))\n",
    "second_model.add(layers.Dense(7, activation='relu'))\n",
    "second_model.add(layers.Dense(5, activation='relu'))\n",
    "second_model.add(layers.Dense(1, activation='sigmoid'))"
   ]
  },
  {
   "cell_type": "code",
   "execution_count": null,
   "metadata": {},
   "outputs": [],
   "source": [
    "second_model.compile(optimizer='sgd',\n",
    "              loss='binary_crossentropy',\n",
    "              metrics=[tf.keras.metrics.Recall()])"
   ]
  },
  {
   "cell_type": "code",
   "execution_count": null,
   "metadata": {},
   "outputs": [],
   "source": [
    "second_model.summary()"
   ]
  },
  {
   "cell_type": "code",
   "execution_count": null,
   "metadata": {},
   "outputs": [],
   "source": [
    "result_second = second_model.fit(train_img,\n",
    "                    train_y,\n",
    "                    epochs=50,\n",
    "                    batch_size=32,\n",
    "                    validation_data=(val_img, val_y))"
   ]
  },
  {
   "cell_type": "markdown",
   "metadata": {},
   "source": [
    "Visualize Loss and Recall Scores"
   ]
  },
  {
   "cell_type": "code",
   "execution_count": null,
   "metadata": {
    "scrolled": false
   },
   "outputs": [],
   "source": [
    "second_results_train = second_model.evaluate(train_img, train_y)\n",
    "second_results_val = second_model.evaluate(val_img, val_y)\n",
    "\n",
    "print(first_results_train)\n",
    "print(first_results_val)\n",
    "print(second_results_train)\n",
    "print(second_results_val)"
   ]
  },
  {
   "cell_type": "markdown",
   "metadata": {},
   "source": [
    "Early Stopping"
   ]
  },
  {
   "cell_type": "code",
   "execution_count": null,
   "metadata": {},
   "outputs": [],
   "source": [
    "# Get few samples for both the classes\n",
    "pneumonia_samples = (train_data[train_data['label']==1]['image'].iloc[:5]).tolist()\n",
    "normal_samples = (train_data[train_data['label']==0]['image'].iloc[:5]).tolist()\n",
    "\n",
    "# Concat the data in a single list and del the above two list\n",
    "samples = pneumonia_samples + normal_samples\n",
    "del pneumonia_samples, normal_samples\n",
    "\n",
    "# Plot the data \n",
    "f, ax = plt.subplots(2,5, figsize=(30,10))\n",
    "for i in range(10):\n",
    "    img = imread(samples[i])\n",
    "    ax[i//5, i%5].imshow(img, cmap='gray')\n",
    "    if i<5:\n",
    "        ax[i//5, i%5].set_title(\"Pneumonia\")\n",
    "    else:\n",
    "        ax[i//5, i%5].set_title(\"Normal\")\n",
    "    ax[i//5, i%5].axis('off')\n",
    "    ax[i//5, i%5].set_aspect('auto')\n",
    "plt.show()"
   ]
  }
 ],
 "metadata": {
  "kernelspec": {
   "display_name": "learn-env",
   "language": "python",
   "name": "learn-env"
  },
  "language_info": {
   "codemirror_mode": {
    "name": "ipython",
    "version": 3
   },
   "file_extension": ".py",
   "mimetype": "text/x-python",
   "name": "python",
   "nbconvert_exporter": "python",
   "pygments_lexer": "ipython3",
   "version": "3.8.5"
  }
 },
 "nbformat": 4,
 "nbformat_minor": 4
}
