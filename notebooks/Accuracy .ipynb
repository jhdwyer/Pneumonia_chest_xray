{
 "cells": [
  {
   "cell_type": "code",
   "execution_count": 98,
   "metadata": {},
   "outputs": [],
   "source": [
    "import os, shutil\n",
    "import time\n",
    "import matplotlib.pyplot as plt\n",
    "import scipy\n",
    "import numpy as np\n",
    "from PIL import Image\n",
    "from scipy import ndimage\n",
    "from keras.preprocessing.image import ImageDataGenerator, array_to_img, img_to_array, load_img\n",
    "import pandas as pd\n",
    "from skimage.io import imread\n",
    "from keras import models\n",
    "from keras import layers\n",
    "import matplotlib.pyplot as plt\n",
    "%matplotlib inline"
   ]
  },
  {
   "cell_type": "code",
   "execution_count": 31,
   "metadata": {},
   "outputs": [],
   "source": [
    "train_folder = 'chest_xray/train'\n",
    "test_folder = 'chest_xray/val'\n",
    "val_folder = 'chest_xray/test'"
   ]
  },
  {
   "cell_type": "code",
   "execution_count": 32,
   "metadata": {},
   "outputs": [],
   "source": [
    "train_n_folder = 'chest_xray/train/NORMAL'\n",
    "train_p_folder = 'chest_xray/train/PNEUMONIA'\n",
    "test_n_folder = 'chest_xray/val/NORMAL'\n",
    "test_p_folder = 'chest_xray/val/PNEUMONIA'\n",
    "val_n_folder = 'chest_xray/test/NORMAL'\n",
    "val_p_folder = 'chest_xray/test/PNEUMONIA'"
   ]
  },
  {
   "cell_type": "markdown",
   "metadata": {},
   "source": [
    "Store all image names"
   ]
  },
  {
   "cell_type": "code",
   "execution_count": 33,
   "metadata": {},
   "outputs": [],
   "source": [
    "train_n = [file for file in os.listdir(train_n_folder) if file.endswith('.jpeg')]\n",
    "train_p = [file for file in os.listdir(train_p_folder) if file.endswith('.jpeg')]"
   ]
  },
  {
   "cell_type": "code",
   "execution_count": 34,
   "metadata": {},
   "outputs": [],
   "source": [
    "test_n = [file for file in os.listdir(test_n_folder) if file.endswith('.jpeg')]\n",
    "test_p = [file for file in os.listdir(test_p_folder) if file.endswith('.jpeg')]"
   ]
  },
  {
   "cell_type": "code",
   "execution_count": 35,
   "metadata": {},
   "outputs": [],
   "source": [
    "val_n = [file for file in os.listdir(val_n_folder) if file.endswith('.jpeg')]\n",
    "val_p = [file for file in os.listdir(val_p_folder) if file.endswith('.jpeg')]"
   ]
  },
  {
   "cell_type": "markdown",
   "metadata": {},
   "source": [
    "Image Processing"
   ]
  },
  {
   "cell_type": "code",
   "execution_count": 36,
   "metadata": {},
   "outputs": [
    {
     "data": {
      "text/plain": [
       "5216"
      ]
     },
     "execution_count": 36,
     "metadata": {},
     "output_type": "execute_result"
    }
   ],
   "source": [
    "len(train_n) + len(train_p)"
   ]
  },
  {
   "cell_type": "code",
   "execution_count": 37,
   "metadata": {},
   "outputs": [
    {
     "name": "stdout",
     "output_type": "stream",
     "text": [
      "Found 5216 images belonging to 2 classes.\n"
     ]
    }
   ],
   "source": [
    "# get all the data in the directory split/train (542 images), and reshape them\n",
    "train_generator = ImageDataGenerator(rescale=1./255).flow_from_directory(\n",
    "        train_folder, \n",
    "        target_size=(64, 64), batch_size= 5216)"
   ]
  },
  {
   "cell_type": "code",
   "execution_count": 38,
   "metadata": {},
   "outputs": [
    {
     "data": {
      "text/plain": [
       "16"
      ]
     },
     "execution_count": 38,
     "metadata": {},
     "output_type": "execute_result"
    }
   ],
   "source": [
    "len(test_n) + len(test_p)"
   ]
  },
  {
   "cell_type": "code",
   "execution_count": 39,
   "metadata": {},
   "outputs": [
    {
     "name": "stdout",
     "output_type": "stream",
     "text": [
      "Found 16 images belonging to 2 classes.\n"
     ]
    }
   ],
   "source": [
    "test_generator = ImageDataGenerator(rescale=1./255).flow_from_directory(\n",
    "        test_folder, \n",
    "        target_size=(64, 64), batch_size = 16)"
   ]
  },
  {
   "cell_type": "code",
   "execution_count": 40,
   "metadata": {},
   "outputs": [
    {
     "data": {
      "text/plain": [
       "624"
      ]
     },
     "execution_count": 40,
     "metadata": {},
     "output_type": "execute_result"
    }
   ],
   "source": [
    "len(val_n) + len(val_p)"
   ]
  },
  {
   "cell_type": "code",
   "execution_count": 41,
   "metadata": {},
   "outputs": [
    {
     "name": "stdout",
     "output_type": "stream",
     "text": [
      "Found 624 images belonging to 2 classes.\n"
     ]
    }
   ],
   "source": [
    "val_generator = ImageDataGenerator(rescale=1./255).flow_from_directory(\n",
    "        val_folder, \n",
    "        target_size=(64, 64), batch_size = 624) "
   ]
  },
  {
   "cell_type": "markdown",
   "metadata": {},
   "source": [
    "Create the datasets"
   ]
  },
  {
   "cell_type": "code",
   "execution_count": 42,
   "metadata": {},
   "outputs": [],
   "source": [
    "# create the data sets\n",
    "train_images, train_labels = next(train_generator)\n",
    "test_images, test_labels = next(test_generator)\n",
    "val_images, val_labels = next(val_generator)"
   ]
  },
  {
   "cell_type": "markdown",
   "metadata": {},
   "source": [
    "reshape"
   ]
  },
  {
   "cell_type": "code",
   "execution_count": 43,
   "metadata": {},
   "outputs": [],
   "source": [
    "train_img = train_images.reshape(train_images.shape[0], -1)\n",
    "test_img = test_images.reshape(test_images.shape[0], -1)\n",
    "val_img = val_images.reshape(val_images.shape[0], -1)"
   ]
  },
  {
   "cell_type": "code",
   "execution_count": 44,
   "metadata": {},
   "outputs": [
    {
     "name": "stdout",
     "output_type": "stream",
     "text": [
      "(5216, 12288)\n",
      "(16, 12288)\n",
      "(624, 12288)\n"
     ]
    }
   ],
   "source": [
    "print(train_img.shape)\n",
    "print(test_img.shape)\n",
    "print(val_img.shape)"
   ]
  },
  {
   "cell_type": "code",
   "execution_count": 45,
   "metadata": {},
   "outputs": [],
   "source": [
    "train_y = np.reshape(train_labels[:,0], (5216,1))\n",
    "test_y = np.reshape(test_labels[:,0], (16,1))\n",
    "val_y = np.reshape(val_labels[:,0], (624,1))"
   ]
  },
  {
   "cell_type": "markdown",
   "metadata": {},
   "source": [
    "First Model"
   ]
  },
  {
   "cell_type": "code",
   "execution_count": 46,
   "metadata": {},
   "outputs": [],
   "source": [
    "first_model = models.Sequential()\n",
    "first_model.add(layers.Dense(20, activation='relu', input_shape=(12288,)))\n",
    "first_model.add(layers.Dense(1, activation='sigmoid'))"
   ]
  },
  {
   "cell_type": "code",
   "execution_count": 47,
   "metadata": {},
   "outputs": [],
   "source": [
    "first_model.compile(optimizer='sgd',\n",
    "              loss='binary_crossentropy',\n",
    "              metrics=['accuracy'])"
   ]
  },
  {
   "cell_type": "code",
   "execution_count": 48,
   "metadata": {
    "scrolled": true
   },
   "outputs": [
    {
     "name": "stdout",
     "output_type": "stream",
     "text": [
      "Model: \"sequential_3\"\n",
      "_________________________________________________________________\n",
      "Layer (type)                 Output Shape              Param #   \n",
      "=================================================================\n",
      "dense_8 (Dense)              (None, 20)                245780    \n",
      "_________________________________________________________________\n",
      "dense_9 (Dense)              (None, 1)                 21        \n",
      "=================================================================\n",
      "Total params: 245,801\n",
      "Trainable params: 245,801\n",
      "Non-trainable params: 0\n",
      "_________________________________________________________________\n"
     ]
    }
   ],
   "source": [
    "first_model.summary()"
   ]
  },
  {
   "cell_type": "code",
   "execution_count": 125,
   "metadata": {},
   "outputs": [
    {
     "name": "stdout",
     "output_type": "stream",
     "text": [
      "Epoch 1/50\n",
      "163/163 [==============================] - 0s 3ms/step - loss: 0.0730 - accuracy: 0.9735 - val_loss: 0.9796 - val_accuracy: 0.7612\n",
      "Epoch 2/50\n",
      "163/163 [==============================] - 1s 4ms/step - loss: 0.0822 - accuracy: 0.9695 - val_loss: 0.9989 - val_accuracy: 0.7548\n",
      "Epoch 3/50\n",
      "163/163 [==============================] - 1s 7ms/step - loss: 0.0874 - accuracy: 0.9686 - val_loss: 0.9434 - val_accuracy: 0.7612\n",
      "Epoch 4/50\n",
      "163/163 [==============================] - 1s 6ms/step - loss: 0.0706 - accuracy: 0.9753 - val_loss: 1.1317 - val_accuracy: 0.7292\n",
      "Epoch 5/50\n",
      "163/163 [==============================] - 1s 4ms/step - loss: 0.0679 - accuracy: 0.9747 - val_loss: 0.6335 - val_accuracy: 0.8061\n",
      "Epoch 6/50\n",
      "163/163 [==============================] - 1s 4ms/step - loss: 0.0706 - accuracy: 0.9739 - val_loss: 1.0818 - val_accuracy: 0.7404\n",
      "Epoch 7/50\n",
      "163/163 [==============================] - 1s 4ms/step - loss: 0.0756 - accuracy: 0.9726 - val_loss: 0.7414 - val_accuracy: 0.7981\n",
      "Epoch 8/50\n",
      "163/163 [==============================] - 1s 5ms/step - loss: 0.0793 - accuracy: 0.9697 - val_loss: 1.3751 - val_accuracy: 0.7147\n",
      "Epoch 9/50\n",
      "163/163 [==============================] - 1s 7ms/step - loss: 0.0914 - accuracy: 0.9693 - val_loss: 0.9826 - val_accuracy: 0.7596\n",
      "Epoch 10/50\n",
      "163/163 [==============================] - 1s 4ms/step - loss: 0.0694 - accuracy: 0.9737 - val_loss: 0.7270 - val_accuracy: 0.8045\n",
      "Epoch 11/50\n",
      "163/163 [==============================] - 1s 5ms/step - loss: 0.0767 - accuracy: 0.9707 - val_loss: 1.4932 - val_accuracy: 0.7003\n",
      "Epoch 12/50\n",
      "163/163 [==============================] - 1s 4ms/step - loss: 0.0636 - accuracy: 0.9772 - val_loss: 1.1011 - val_accuracy: 0.7420\n",
      "Epoch 13/50\n",
      "163/163 [==============================] - 1s 4ms/step - loss: 0.0752 - accuracy: 0.9730 - val_loss: 0.9921 - val_accuracy: 0.7676\n",
      "Epoch 14/50\n",
      "163/163 [==============================] - 1s 4ms/step - loss: 0.0654 - accuracy: 0.9749 - val_loss: 0.6288 - val_accuracy: 0.8141\n",
      "Epoch 15/50\n",
      "163/163 [==============================] - 1s 3ms/step - loss: 0.0750 - accuracy: 0.9701 - val_loss: 0.6808 - val_accuracy: 0.8125\n",
      "Epoch 16/50\n",
      "163/163 [==============================] - 1s 3ms/step - loss: 0.0659 - accuracy: 0.9743 - val_loss: 1.3895 - val_accuracy: 0.7179\n",
      "Epoch 17/50\n",
      "163/163 [==============================] - 1s 3ms/step - loss: 0.0698 - accuracy: 0.9737 - val_loss: 1.1893 - val_accuracy: 0.7356\n",
      "Epoch 18/50\n",
      "163/163 [==============================] - 1s 3ms/step - loss: 0.0675 - accuracy: 0.9743 - val_loss: 0.7632 - val_accuracy: 0.8013\n",
      "Epoch 19/50\n",
      "163/163 [==============================] - 1s 3ms/step - loss: 0.0626 - accuracy: 0.9774 - val_loss: 1.0879 - val_accuracy: 0.7532\n",
      "Epoch 20/50\n",
      "163/163 [==============================] - 1s 3ms/step - loss: 0.0596 - accuracy: 0.9768 - val_loss: 1.1211 - val_accuracy: 0.7452\n",
      "Epoch 21/50\n",
      "163/163 [==============================] - 1s 3ms/step - loss: 0.0696 - accuracy: 0.9745 - val_loss: 1.1731 - val_accuracy: 0.7308\n",
      "Epoch 22/50\n",
      "163/163 [==============================] - 1s 4ms/step - loss: 0.0726 - accuracy: 0.9718 - val_loss: 1.0991 - val_accuracy: 0.7484\n",
      "Epoch 23/50\n",
      "163/163 [==============================] - 1s 3ms/step - loss: 0.0664 - accuracy: 0.9757 - val_loss: 1.1039 - val_accuracy: 0.7468\n",
      "Epoch 24/50\n",
      "163/163 [==============================] - 1s 3ms/step - loss: 0.0608 - accuracy: 0.9781 - val_loss: 1.2003 - val_accuracy: 0.7340\n",
      "Epoch 25/50\n",
      "163/163 [==============================] - 1s 4ms/step - loss: 0.0641 - accuracy: 0.9757 - val_loss: 0.6863 - val_accuracy: 0.8109\n",
      "Epoch 26/50\n",
      "163/163 [==============================] - 1s 4ms/step - loss: 0.0654 - accuracy: 0.9749 - val_loss: 1.4845 - val_accuracy: 0.7051\n",
      "Epoch 27/50\n",
      "163/163 [==============================] - 1s 4ms/step - loss: 0.0580 - accuracy: 0.9799 - val_loss: 1.0367 - val_accuracy: 0.7628\n",
      "Epoch 28/50\n",
      "163/163 [==============================] - 1s 6ms/step - loss: 0.0617 - accuracy: 0.9753 - val_loss: 0.6676 - val_accuracy: 0.8189\n",
      "Epoch 29/50\n",
      "163/163 [==============================] - 1s 6ms/step - loss: 0.0624 - accuracy: 0.9762 - val_loss: 1.3270 - val_accuracy: 0.7260\n",
      "Epoch 30/50\n",
      "163/163 [==============================] - 1s 6ms/step - loss: 0.0518 - accuracy: 0.9803 - val_loss: 1.1364 - val_accuracy: 0.7500\n",
      "Epoch 31/50\n",
      "163/163 [==============================] - 1s 4ms/step - loss: 0.0567 - accuracy: 0.9785 - val_loss: 1.2345 - val_accuracy: 0.7372\n",
      "Epoch 32/50\n",
      "163/163 [==============================] - 1s 5ms/step - loss: 0.0777 - accuracy: 0.9732 - val_loss: 1.0164 - val_accuracy: 0.7708\n",
      "Epoch 33/50\n",
      "163/163 [==============================] - 1s 5ms/step - loss: 0.0560 - accuracy: 0.9803 - val_loss: 0.9656 - val_accuracy: 0.7788\n",
      "Epoch 34/50\n",
      "163/163 [==============================] - 1s 4ms/step - loss: 0.1255 - accuracy: 0.9444 - val_loss: 0.8222 - val_accuracy: 0.7612\n",
      "Epoch 35/50\n",
      "163/163 [==============================] - 1s 3ms/step - loss: 0.0990 - accuracy: 0.9649 - val_loss: 0.8838 - val_accuracy: 0.7580\n",
      "Epoch 36/50\n",
      "163/163 [==============================] - 1s 4ms/step - loss: 0.0785 - accuracy: 0.9716 - val_loss: 0.4291 - val_accuracy: 0.8349\n",
      "Epoch 37/50\n",
      "163/163 [==============================] - 1s 6ms/step - loss: 0.0731 - accuracy: 0.9743 - val_loss: 1.0978 - val_accuracy: 0.7596\n",
      "Epoch 38/50\n",
      "163/163 [==============================] - 1s 4ms/step - loss: 0.0717 - accuracy: 0.9749 - val_loss: 0.9516 - val_accuracy: 0.7676\n",
      "Epoch 39/50\n",
      "163/163 [==============================] - 1s 5ms/step - loss: 0.0740 - accuracy: 0.9730 - val_loss: 0.9997 - val_accuracy: 0.7692\n",
      "Epoch 40/50\n",
      "163/163 [==============================] - 1s 6ms/step - loss: 0.0567 - accuracy: 0.9787 - val_loss: 0.8541 - val_accuracy: 0.7869\n",
      "Epoch 41/50\n",
      "163/163 [==============================] - 1s 4ms/step - loss: 0.0567 - accuracy: 0.9799 - val_loss: 1.7067 - val_accuracy: 0.6891\n",
      "Epoch 42/50\n",
      "163/163 [==============================] - 1s 5ms/step - loss: 0.0645 - accuracy: 0.9741 - val_loss: 1.1828 - val_accuracy: 0.7372\n",
      "Epoch 43/50\n",
      "163/163 [==============================] - 1s 5ms/step - loss: 0.0560 - accuracy: 0.9793 - val_loss: 0.9249 - val_accuracy: 0.7788\n",
      "Epoch 44/50\n",
      "163/163 [==============================] - 1s 5ms/step - loss: 0.0576 - accuracy: 0.9772 - val_loss: 1.0512 - val_accuracy: 0.7676\n",
      "Epoch 45/50\n",
      "163/163 [==============================] - 1s 6ms/step - loss: 0.0505 - accuracy: 0.9797 - val_loss: 1.1518 - val_accuracy: 0.7612\n",
      "Epoch 46/50\n",
      "163/163 [==============================] - 1s 5ms/step - loss: 0.0521 - accuracy: 0.9801 - val_loss: 1.2049 - val_accuracy: 0.7436\n",
      "Epoch 47/50\n",
      "163/163 [==============================] - 1s 6ms/step - loss: 0.0862 - accuracy: 0.9709 - val_loss: 0.9703 - val_accuracy: 0.7436\n",
      "Epoch 48/50\n",
      "163/163 [==============================] - 1s 6ms/step - loss: 0.0748 - accuracy: 0.9745 - val_loss: 0.8136 - val_accuracy: 0.7772\n",
      "Epoch 49/50\n",
      "163/163 [==============================] - 1s 7ms/step - loss: 0.0765 - accuracy: 0.9705 - val_loss: 1.0992 - val_accuracy: 0.7324\n",
      "Epoch 50/50\n",
      "163/163 [==============================] - 1s 4ms/step - loss: 0.0690 - accuracy: 0.9753 - val_loss: 0.6499 - val_accuracy: 0.8093\n"
     ]
    }
   ],
   "source": [
    "result_first = first_model.fit(train_img,\n",
    "                    train_y,\n",
    "                    epochs=50,\n",
    "                    batch_size=32,\n",
    "                    validation_data=(val_img, val_y))"
   ]
  },
  {
   "cell_type": "markdown",
   "metadata": {},
   "source": [
    "Visualize Loss and Accuracy Score"
   ]
  },
  {
   "cell_type": "code",
   "execution_count": 50,
   "metadata": {},
   "outputs": [],
   "source": [
    "def visualize_training_results(results):\n",
    "    history = results.history\n",
    "    plt.figure()\n",
    "    plt.plot(history['val_loss'])\n",
    "    plt.plot(history['loss'])\n",
    "    plt.legend(['val_loss', 'loss'])\n",
    "    plt.title('Loss')\n",
    "    plt.xlabel('Epochs')\n",
    "    plt.ylabel('Loss')\n",
    "    plt.show()\n",
    "    \n",
    "    plt.figure()\n",
    "    plt.plot(history['val_accuracy'])\n",
    "    plt.plot(history['accuracy'])\n",
    "    plt.legend(['val_accuracy', 'accuracy'])\n",
    "    plt.title('Accuracy')\n",
    "    plt.xlabel('Epochs')\n",
    "    plt.ylabel('Accuracy')\n",
    "    plt.show()"
   ]
  },
  {
   "cell_type": "code",
   "execution_count": 51,
   "metadata": {
    "scrolled": true
   },
   "outputs": [
    {
     "data": {
      "image/png": "[encoded data removed]",
      "text/plain": [
       "<Figure size 432x288 with 1 Axes>"
      ]
     },
     "metadata": {
      "needs_background": "light"
     },
     "output_type": "display_data"
    },
    {
     "data": {
      "image/png": "[encoded data removed]",
      "text/plain": [
       "<Figure size 432x288 with 1 Axes>"
      ]
     },
     "metadata": {
      "needs_background": "light"
     },
     "output_type": "display_data"
    }
   ],
   "source": [
    "visualize_training_results(result_first)"
   ]
  },
  {
   "cell_type": "code",
   "execution_count": 62,
   "metadata": {},
   "outputs": [
    {
     "name": "stdout",
     "output_type": "stream",
     "text": [
      "163/163 [==============================] - 0s 2ms/step - loss: 0.0743 - accuracy: 0.9728\n",
      "20/20 [==============================] - 0s 2ms/step - loss: 1.0694 - accuracy: 0.7388\n",
      "[0.07425756752490997, 0.9727760553359985]\n",
      "[1.0694044828414917, 0.7387820482254028]\n"
     ]
    }
   ],
   "source": [
    "first_results_train = first_model.evaluate(train_img, train_y)\n",
    "first_results_val = first_model.evaluate(val_img, val_y)\n",
    "print(first_results_train)\n",
    "print(first_results_val)"
   ]
  },
  {
   "cell_type": "markdown",
   "metadata": {},
   "source": [
    "Second Model"
   ]
  },
  {
   "cell_type": "code",
   "execution_count": 63,
   "metadata": {},
   "outputs": [],
   "source": [
    "second_model = models.Sequential()\n",
    "second_model.add(layers.Dense(20, activation='relu', input_shape=(12288,)))\n",
    "second_model.add(layers.Dense(7, activation='relu'))\n",
    "second_model.add(layers.Dense(5, activation='relu'))\n",
    "second_model.add(layers.Dense(1, activation='sigmoid'))"
   ]
  },
  {
   "cell_type": "code",
   "execution_count": 64,
   "metadata": {},
   "outputs": [],
   "source": [
    "second_model.compile(optimizer='sgd',\n",
    "              loss='binary_crossentropy',\n",
    "              metrics=['accuracy'])"
   ]
  },
  {
   "cell_type": "code",
   "execution_count": 65,
   "metadata": {},
   "outputs": [
    {
     "name": "stdout",
     "output_type": "stream",
     "text": [
      "Model: \"sequential_5\"\n",
      "_________________________________________________________________\n",
      "Layer (type)                 Output Shape              Param #   \n",
      "=================================================================\n",
      "dense_14 (Dense)             (None, 20)                245780    \n",
      "_________________________________________________________________\n",
      "dense_15 (Dense)             (None, 7)                 147       \n",
      "_________________________________________________________________\n",
      "dense_16 (Dense)             (None, 5)                 40        \n",
      "_________________________________________________________________\n",
      "dense_17 (Dense)             (None, 1)                 6         \n",
      "=================================================================\n",
      "Total params: 245,973\n",
      "Trainable params: 245,973\n",
      "Non-trainable params: 0\n",
      "_________________________________________________________________\n"
     ]
    }
   ],
   "source": [
    "second_model.summary()"
   ]
  },
  {
   "cell_type": "code",
   "execution_count": 66,
   "metadata": {},
   "outputs": [
    {
     "name": "stdout",
     "output_type": "stream",
     "text": [
      "Epoch 1/50\n",
      "163/163 [==============================] - 1s 3ms/step - loss: 0.4711 - accuracy: 0.7431 - val_loss: 0.7310 - val_accuracy: 0.6250\n",
      "Epoch 2/50\n",
      "163/163 [==============================] - 0s 3ms/step - loss: 0.3627 - accuracy: 0.8363 - val_loss: 0.5084 - val_accuracy: 0.7484\n",
      "Epoch 3/50\n",
      "163/163 [==============================] - 0s 3ms/step - loss: 0.2968 - accuracy: 0.9026 - val_loss: 0.6708 - val_accuracy: 0.7019\n",
      "Epoch 4/50\n",
      "163/163 [==============================] - 1s 3ms/step - loss: 0.2670 - accuracy: 0.8988 - val_loss: 0.8058 - val_accuracy: 0.6955\n",
      "Epoch 5/50\n",
      "163/163 [==============================] - 1s 4ms/step - loss: 0.2210 - accuracy: 0.9114 - val_loss: 0.6601 - val_accuracy: 0.7388\n",
      "Epoch 6/50\n",
      "163/163 [==============================] - 1s 4ms/step - loss: 0.1944 - accuracy: 0.9250 - val_loss: 0.5483 - val_accuracy: 0.7724\n",
      "Epoch 7/50\n",
      "163/163 [==============================] - 1s 5ms/step - loss: 0.1779 - accuracy: 0.9306 - val_loss: 0.5611 - val_accuracy: 0.7821\n",
      "Epoch 8/50\n",
      "163/163 [==============================] - 0s 3ms/step - loss: 0.1661 - accuracy: 0.9375 - val_loss: 0.5134 - val_accuracy: 0.7901\n",
      "Epoch 9/50\n",
      "163/163 [==============================] - 1s 3ms/step - loss: 0.1510 - accuracy: 0.9436 - val_loss: 0.4510 - val_accuracy: 0.8061\n",
      "Epoch 10/50\n",
      "163/163 [==============================] - 0s 3ms/step - loss: 0.1505 - accuracy: 0.9404 - val_loss: 0.7883 - val_accuracy: 0.7372\n",
      "Epoch 11/50\n",
      "163/163 [==============================] - 1s 5ms/step - loss: 0.1438 - accuracy: 0.9457 - val_loss: 0.8914 - val_accuracy: 0.7099\n",
      "Epoch 12/50\n",
      "163/163 [==============================] - 1s 4ms/step - loss: 0.1448 - accuracy: 0.9444 - val_loss: 1.1636 - val_accuracy: 0.6971\n",
      "Epoch 13/50\n",
      "163/163 [==============================] - 1s 3ms/step - loss: 0.1435 - accuracy: 0.9444 - val_loss: 0.8174 - val_accuracy: 0.7388\n",
      "Epoch 14/50\n",
      "163/163 [==============================] - 1s 3ms/step - loss: 0.1361 - accuracy: 0.9469 - val_loss: 0.7895 - val_accuracy: 0.7484\n",
      "Epoch 15/50\n",
      "163/163 [==============================] - 1s 3ms/step - loss: 0.1344 - accuracy: 0.9484 - val_loss: 1.1264 - val_accuracy: 0.7099\n",
      "Epoch 16/50\n",
      "163/163 [==============================] - 1s 3ms/step - loss: 0.1278 - accuracy: 0.9500 - val_loss: 0.8253 - val_accuracy: 0.7388\n",
      "Epoch 17/50\n",
      "163/163 [==============================] - 1s 5ms/step - loss: 0.1219 - accuracy: 0.9505 - val_loss: 0.6862 - val_accuracy: 0.7853\n",
      "Epoch 18/50\n",
      "163/163 [==============================] - 1s 5ms/step - loss: 0.1165 - accuracy: 0.9582 - val_loss: 0.8968 - val_accuracy: 0.7356\n",
      "Epoch 19/50\n",
      "163/163 [==============================] - 1s 4ms/step - loss: 0.1201 - accuracy: 0.9557 - val_loss: 0.9551 - val_accuracy: 0.7260\n",
      "Epoch 20/50\n",
      "163/163 [==============================] - 0s 3ms/step - loss: 0.1224 - accuracy: 0.9538 - val_loss: 0.5770 - val_accuracy: 0.7965\n",
      "Epoch 21/50\n",
      "163/163 [==============================] - 1s 3ms/step - loss: 0.1167 - accuracy: 0.9563 - val_loss: 0.7158 - val_accuracy: 0.7724\n",
      "Epoch 22/50\n",
      "163/163 [==============================] - 1s 3ms/step - loss: 0.1170 - accuracy: 0.9563 - val_loss: 0.6250 - val_accuracy: 0.7949\n",
      "Epoch 23/50\n",
      "163/163 [==============================] - 1s 3ms/step - loss: 0.1133 - accuracy: 0.9548 - val_loss: 0.8270 - val_accuracy: 0.7548\n",
      "Epoch 24/50\n",
      "163/163 [==============================] - 1s 3ms/step - loss: 0.1129 - accuracy: 0.9557 - val_loss: 0.9043 - val_accuracy: 0.7340\n",
      "Epoch 25/50\n",
      "163/163 [==============================] - 1s 3ms/step - loss: 0.1151 - accuracy: 0.9549 - val_loss: 0.8009 - val_accuracy: 0.7676\n",
      "Epoch 26/50\n",
      "163/163 [==============================] - 1s 3ms/step - loss: 0.1100 - accuracy: 0.9601 - val_loss: 0.8117 - val_accuracy: 0.7644\n",
      "Epoch 27/50\n",
      "163/163 [==============================] - 1s 3ms/step - loss: 0.1039 - accuracy: 0.9617 - val_loss: 0.9762 - val_accuracy: 0.7340\n",
      "Epoch 28/50\n",
      "163/163 [==============================] - 1s 5ms/step - loss: 0.1129 - accuracy: 0.9551 - val_loss: 0.7616 - val_accuracy: 0.7660\n",
      "Epoch 29/50\n",
      "163/163 [==============================] - 1s 7ms/step - loss: 0.1130 - accuracy: 0.9571 - val_loss: 0.7641 - val_accuracy: 0.7644\n",
      "Epoch 30/50\n",
      "163/163 [==============================] - 1s 5ms/step - loss: 0.1079 - accuracy: 0.9582 - val_loss: 1.0646 - val_accuracy: 0.7212\n",
      "Epoch 31/50\n",
      "163/163 [==============================] - 1s 4ms/step - loss: 0.1052 - accuracy: 0.9578 - val_loss: 1.1084 - val_accuracy: 0.7196\n",
      "Epoch 32/50\n",
      "163/163 [==============================] - 1s 3ms/step - loss: 0.1011 - accuracy: 0.9620 - val_loss: 1.5059 - val_accuracy: 0.6907\n",
      "Epoch 33/50\n",
      "163/163 [==============================] - 1s 5ms/step - loss: 0.1027 - accuracy: 0.9613 - val_loss: 0.8844 - val_accuracy: 0.7580\n",
      "Epoch 34/50\n",
      "163/163 [==============================] - 1s 5ms/step - loss: 0.1030 - accuracy: 0.9615 - val_loss: 1.0256 - val_accuracy: 0.7340\n",
      "Epoch 35/50\n",
      "163/163 [==============================] - 1s 4ms/step - loss: 0.1032 - accuracy: 0.9592 - val_loss: 0.8711 - val_accuracy: 0.7564\n",
      "Epoch 36/50\n",
      "163/163 [==============================] - 1s 3ms/step - loss: 0.1031 - accuracy: 0.9609 - val_loss: 0.6918 - val_accuracy: 0.7933\n",
      "Epoch 37/50\n",
      "163/163 [==============================] - 1s 4ms/step - loss: 0.1006 - accuracy: 0.9611 - val_loss: 0.7895 - val_accuracy: 0.7804\n",
      "Epoch 38/50\n",
      "163/163 [==============================] - 1s 3ms/step - loss: 0.1020 - accuracy: 0.9615 - val_loss: 0.9403 - val_accuracy: 0.7532\n",
      "Epoch 39/50\n",
      "163/163 [==============================] - 1s 5ms/step - loss: 0.0937 - accuracy: 0.9641 - val_loss: 0.8912 - val_accuracy: 0.7596\n",
      "Epoch 40/50\n",
      "163/163 [==============================] - 1s 4ms/step - loss: 0.0999 - accuracy: 0.9611 - val_loss: 0.9727 - val_accuracy: 0.7516\n",
      "Epoch 41/50\n",
      "163/163 [==============================] - 1s 5ms/step - loss: 0.0933 - accuracy: 0.9636 - val_loss: 1.0193 - val_accuracy: 0.7468\n",
      "Epoch 42/50\n",
      "163/163 [==============================] - 1s 4ms/step - loss: 0.0929 - accuracy: 0.9620 - val_loss: 0.8378 - val_accuracy: 0.7740\n",
      "Epoch 43/50\n",
      "163/163 [==============================] - 1s 4ms/step - loss: 0.0956 - accuracy: 0.9609 - val_loss: 1.2049 - val_accuracy: 0.7212\n",
      "Epoch 44/50\n",
      "163/163 [==============================] - 1s 4ms/step - loss: 0.0929 - accuracy: 0.9655 - val_loss: 1.1268 - val_accuracy: 0.7404\n",
      "Epoch 45/50\n",
      "163/163 [==============================] - 1s 5ms/step - loss: 0.1034 - accuracy: 0.9580 - val_loss: 0.8764 - val_accuracy: 0.7676\n",
      "Epoch 46/50\n",
      "163/163 [==============================] - 1s 4ms/step - loss: 0.0897 - accuracy: 0.9645 - val_loss: 1.5867 - val_accuracy: 0.7019\n",
      "Epoch 47/50\n",
      "163/163 [==============================] - 1s 4ms/step - loss: 0.0920 - accuracy: 0.9638 - val_loss: 1.2004 - val_accuracy: 0.7260\n",
      "Epoch 48/50\n",
      "163/163 [==============================] - 1s 5ms/step - loss: 0.0972 - accuracy: 0.9605 - val_loss: 0.9141 - val_accuracy: 0.7612\n",
      "Epoch 49/50\n",
      "163/163 [==============================] - 1s 4ms/step - loss: 0.0931 - accuracy: 0.9641 - val_loss: 0.6860 - val_accuracy: 0.7885\n",
      "Epoch 50/50\n",
      "163/163 [==============================] - 1s 5ms/step - loss: 0.0912 - accuracy: 0.9647 - val_loss: 1.0869 - val_accuracy: 0.7308\n"
     ]
    }
   ],
   "source": [
    "result_second = second_model.fit(train_img,\n",
    "                    train_y,\n",
    "                    epochs=50,\n",
    "                    batch_size=32,\n",
    "                    validation_data=(val_img, val_y))"
   ]
  },
  {
   "cell_type": "markdown",
   "metadata": {},
   "source": [
    "Visualize Loss and Accuracy Scores"
   ]
  },
  {
   "cell_type": "code",
   "execution_count": 67,
   "metadata": {},
   "outputs": [
    {
     "data": {
      "image/png": "[encoded data removed]",
      "text/plain": [
       "<Figure size 432x288 with 1 Axes>"
      ]
     },
     "metadata": {
      "needs_background": "light"
     },
     "output_type": "display_data"
    },
    {
     "data": {
      "image/png": "[encoded data removed]",
      "text/plain": [
       "<Figure size 432x288 with 1 Axes>"
      ]
     },
     "metadata": {
      "needs_background": "light"
     },
     "output_type": "display_data"
    }
   ],
   "source": [
    "visualize_training_results(result_baseline)"
   ]
  },
  {
   "cell_type": "code",
   "execution_count": 68,
   "metadata": {
    "scrolled": true
   },
   "outputs": [
    {
     "name": "stdout",
     "output_type": "stream",
     "text": [
      "163/163 [==============================] - 0s 2ms/step - loss: 0.1012 - accuracy: 0.9651\n",
      "20/20 [==============================] - 0s 2ms/step - loss: 1.4114 - accuracy: 0.7163\n",
      "[0.07425756752490997, 0.9727760553359985]\n",
      "[1.0694044828414917, 0.7387820482254028]\n",
      "[0.10120843350887299, 0.9651073813438416]\n",
      "[1.4114489555358887, 0.7163461446762085]\n"
     ]
    }
   ],
   "source": [
    "second_results_train = baseline_model.evaluate(train_img, train_y)\n",
    "second_results_val = baseline_model.evaluate(val_img, val_y)\n",
    "\n",
    "print(first_results_train)\n",
    "print(first_results_val)\n",
    "print(second_results_train)\n",
    "print(second_results_val)"
   ]
  },
  {
   "cell_type": "markdown",
   "metadata": {},
   "source": [
    "Early Stopping"
   ]
  },
  {
   "cell_type": "code",
   "execution_count": 117,
   "metadata": {},
   "outputs": [],
   "source": [
    "estop_model = models.Sequential()\n",
    "estop_model.add(layers.Dense(20, activation='relu', input_shape=(12288,)))\n",
    "estop_model.add(layers.Dense(1, activation='sigmoid'))"
   ]
  },
  {
   "cell_type": "code",
   "execution_count": 118,
   "metadata": {},
   "outputs": [],
   "source": [
    "estop_model.compile(optimizer='sgd',\n",
    "              loss='binary_crossentropy',\n",
    "              metrics=['accuracy'])"
   ]
  },
  {
   "cell_type": "code",
   "execution_count": 119,
   "metadata": {},
   "outputs": [],
   "source": [
    "# Import EarlyStopping and ModelCheckpoint\n",
    "from keras.callbacks import EarlyStopping, ModelCheckpoint\n",
    "\n",
    "# Define the callbacks\n",
    "early_stopping = [EarlyStopping(monitor='val_loss', patience=10), \n",
    "                  ModelCheckpoint(filepath='best_model.h5', monitor='val_loss', save_best_only=True)]"
   ]
  },
  {
   "cell_type": "code",
   "execution_count": 120,
   "metadata": {
    "scrolled": true
   },
   "outputs": [
    {
     "name": "stdout",
     "output_type": "stream",
     "text": [
      "Epoch 1/50\n",
      "163/163 [==============================] - 1s 6ms/step - loss: 0.0832 - accuracy: 0.9695 - val_loss: 0.9872 - val_accuracy: 0.7516\n",
      "Epoch 2/50\n",
      "163/163 [==============================] - 1s 3ms/step - loss: 0.0871 - accuracy: 0.9689 - val_loss: 1.2144 - val_accuracy: 0.7212\n",
      "Epoch 3/50\n",
      "163/163 [==============================] - 1s 3ms/step - loss: 0.0843 - accuracy: 0.9680 - val_loss: 0.7671 - val_accuracy: 0.7853\n",
      "Epoch 4/50\n",
      "163/163 [==============================] - 1s 3ms/step - loss: 0.0886 - accuracy: 0.9672 - val_loss: 0.5732 - val_accuracy: 0.8077\n",
      "Epoch 5/50\n",
      "163/163 [==============================] - 1s 4ms/step - loss: 0.0851 - accuracy: 0.9661 - val_loss: 1.0105 - val_accuracy: 0.7436\n",
      "Epoch 6/50\n",
      "163/163 [==============================] - 1s 5ms/step - loss: 0.0866 - accuracy: 0.9668 - val_loss: 1.0104 - val_accuracy: 0.7436\n",
      "Epoch 7/50\n",
      "163/163 [==============================] - 1s 3ms/step - loss: 0.0820 - accuracy: 0.9699 - val_loss: 0.7685 - val_accuracy: 0.7869\n",
      "Epoch 8/50\n",
      "163/163 [==============================] - 1s 3ms/step - loss: 0.0856 - accuracy: 0.9653 - val_loss: 0.9934 - val_accuracy: 0.7484\n",
      "Epoch 9/50\n",
      "163/163 [==============================] - 1s 3ms/step - loss: 0.0842 - accuracy: 0.9680 - val_loss: 1.1848 - val_accuracy: 0.7276\n",
      "Epoch 10/50\n",
      "163/163 [==============================] - 1s 3ms/step - loss: 0.0763 - accuracy: 0.9712 - val_loss: 0.9831 - val_accuracy: 0.7564\n",
      "Epoch 11/50\n",
      "163/163 [==============================] - 1s 3ms/step - loss: 0.0840 - accuracy: 0.9670 - val_loss: 0.9840 - val_accuracy: 0.7532\n",
      "Epoch 12/50\n",
      "163/163 [==============================] - 1s 3ms/step - loss: 0.0752 - accuracy: 0.9724 - val_loss: 1.3571 - val_accuracy: 0.7115\n",
      "Epoch 13/50\n",
      "163/163 [==============================] - 1s 5ms/step - loss: 0.0813 - accuracy: 0.9707 - val_loss: 1.0222 - val_accuracy: 0.7500\n",
      "Epoch 14/50\n",
      "163/163 [==============================] - 1s 4ms/step - loss: 0.0765 - accuracy: 0.9730 - val_loss: 1.2388 - val_accuracy: 0.7244\n"
     ]
    }
   ],
   "source": [
    "result_first = first_model.fit(train_img,\n",
    "                    train_y,\n",
    "                    epochs=50,\n",
    "                    callbacks=early_stopping,\n",
    "                    batch_size=32,\n",
    "                    validation_data=(val_img, val_y))"
   ]
  },
  {
   "cell_type": "code",
   "execution_count": 121,
   "metadata": {},
   "outputs": [
    {
     "name": "stdout",
     "output_type": "stream",
     "text": [
      "163/163 [==============================] - 0s 1ms/step - loss: 0.5952 - accuracy: 0.7429\n",
      "20/20 [==============================] - 0s 3ms/step - loss: 0.6845 - accuracy: 0.6266\n",
      "[0.07425756752490997, 0.9727760553359985]\n",
      "[1.0694044828414917, 0.7387820482254028]\n",
      "[0.10120843350887299, 0.9651073813438416]\n",
      "[1.4114489555358887, 0.7163461446762085]\n",
      "[0.5951792597770691, 0.7429064512252808]\n",
      "[0.6844632029533386, 0.6266025900840759]\n"
     ]
    }
   ],
   "source": [
    "estop_results_train = estop_model.evaluate(train_img, train_y)\n",
    "estop_results_val = estop_model.evaluate(val_img, val_y)\n",
    "\n",
    "print(first_results_train)\n",
    "print(first_results_val)\n",
    "print(second_results_train)\n",
    "print(second_results_val)\n",
    "print(estop_results_train)\n",
    "print(estop_results_val)"
   ]
  },
  {
   "cell_type": "markdown",
   "metadata": {},
   "source": [
    "Class Imbalance"
   ]
  },
  {
   "cell_type": "code",
   "execution_count": 78,
   "metadata": {},
   "outputs": [
    {
     "data": {
      "image/png": "[encoded data removed]",
      "text/plain": [
       "<Figure size 432x288 with 1 Axes>"
      ]
     },
     "metadata": {
      "needs_background": "light"
     },
     "output_type": "display_data"
    }
   ],
   "source": [
    "fig, ax = plt.subplots()\n",
    "x = ['Normal', 'Pneumonia']\n",
    "y = [len(train_n), len(train_p)]\n",
    "ax.bar(x,y)\n",
    "ax.set_title('Values In Train Images')\n",
    "ax.set_xlabel('Classificaiton')\n",
    "ax.set_ylabel('Values');"
   ]
  },
  {
   "cell_type": "code",
   "execution_count": 131,
   "metadata": {},
   "outputs": [
    {
     "name": "stdout",
     "output_type": "stream",
     "text": [
      "1341\n",
      "3875\n"
     ]
    }
   ],
   "source": [
    "print(len(train_n))\n",
    "print(len(train_p))"
   ]
  },
  {
   "cell_type": "code",
   "execution_count": 139,
   "metadata": {},
   "outputs": [
    {
     "name": "stdout",
     "output_type": "stream",
     "text": [
      "2.889634601043997\n",
      "1\n"
     ]
    }
   ],
   "source": [
    "weight_for_0 = 3875/1341\n",
    "weight_for_1 = 1\n",
    "\n",
    "class_weight = {0: (3875/1341), 1: 1}\n",
    "\n",
    "print(weight_for_0)\n",
    "print(weight_for_1)"
   ]
  },
  {
   "cell_type": "code",
   "execution_count": 134,
   "metadata": {},
   "outputs": [],
   "source": [
    "cb_model = models.Sequential()\n",
    "cb_model.add(layers.Dense(20, activation='relu', input_shape=(12288,)))\n",
    "cb_model.add(layers.Dense(1, activation='sigmoid'))"
   ]
  },
  {
   "cell_type": "code",
   "execution_count": 135,
   "metadata": {},
   "outputs": [],
   "source": [
    "cb_model.compile(optimizer='sgd',\n",
    "              loss='binary_crossentropy',\n",
    "              metrics=['accuracy'])"
   ]
  },
  {
   "cell_type": "code",
   "execution_count": 145,
   "metadata": {},
   "outputs": [
    {
     "name": "stdout",
     "output_type": "stream",
     "text": [
      "Epoch 1/50\n",
      "163/163 [==============================] - 1s 4ms/step - loss: 0.1309 - accuracy: 0.9655 - val_loss: 0.9086 - val_accuracy: 0.7740\n",
      "Epoch 2/50\n",
      "163/163 [==============================] - 1s 4ms/step - loss: 0.1278 - accuracy: 0.9684 - val_loss: 1.4952 - val_accuracy: 0.7147\n",
      "Epoch 3/50\n",
      "163/163 [==============================] - 1s 4ms/step - loss: 0.1316 - accuracy: 0.9651 - val_loss: 0.9530 - val_accuracy: 0.7660\n",
      "Epoch 4/50\n",
      "163/163 [==============================] - 1s 3ms/step - loss: 0.1483 - accuracy: 0.9624 - val_loss: 1.1538 - val_accuracy: 0.7468\n",
      "Epoch 5/50\n",
      "163/163 [==============================] - 1s 3ms/step - loss: 0.1252 - accuracy: 0.9668 - val_loss: 1.6141 - val_accuracy: 0.6987\n",
      "Epoch 6/50\n",
      "163/163 [==============================] - 1s 3ms/step - loss: 0.1453 - accuracy: 0.9630 - val_loss: 1.7014 - val_accuracy: 0.6907\n",
      "Epoch 7/50\n",
      "163/163 [==============================] - 1s 3ms/step - loss: 0.1302 - accuracy: 0.9664 - val_loss: 1.2601 - val_accuracy: 0.7308\n",
      "Epoch 8/50\n",
      "163/163 [==============================] - 1s 3ms/step - loss: 0.1355 - accuracy: 0.9643 - val_loss: 1.6950 - val_accuracy: 0.6939\n",
      "Epoch 9/50\n",
      "163/163 [==============================] - 1s 4ms/step - loss: 0.1556 - accuracy: 0.9626 - val_loss: 1.3134 - val_accuracy: 0.7244\n",
      "Epoch 10/50\n",
      "163/163 [==============================] - 1s 4ms/step - loss: 0.1318 - accuracy: 0.9640 - val_loss: 1.6955 - val_accuracy: 0.6923\n",
      "Epoch 11/50\n",
      "163/163 [==============================] - 1s 3ms/step - loss: 0.1293 - accuracy: 0.9663 - val_loss: 1.9128 - val_accuracy: 0.6859\n"
     ]
    }
   ],
   "source": [
    "result_cb = cb_model.fit(train_img,\n",
    "                    train_y,\n",
    "                    epochs=50,\n",
    "                    callbacks=early_stopping,\n",
    "                    class_weight = class_weight,\n",
    "                    batch_size=32,\n",
    "                    validation_data=(val_img, val_y))"
   ]
  },
  {
   "cell_type": "code",
   "execution_count": 143,
   "metadata": {},
   "outputs": [
    {
     "name": "stdout",
     "output_type": "stream",
     "text": [
      "163/163 [==============================] - 0s 2ms/step - loss: 0.0952 - accuracy: 0.9641\n",
      "20/20 [==============================] - 0s 2ms/step - loss: 1.4543 - accuracy: 0.7131\n",
      "[0.07425756752490997, 0.9727760553359985]\n",
      "[1.0694044828414917, 0.7387820482254028]\n",
      "[0.09521301090717316, 0.964148759841919]\n",
      "[1.4542607069015503, 0.7131410241127014]\n"
     ]
    }
   ],
   "source": [
    "cb_results_train = cb_model.evaluate(train_img, train_y)\n",
    "cb_results_val = cb_model.evaluate(val_img, val_y)\n",
    "\n",
    "print(first_results_train)\n",
    "print(first_results_val)\n",
    "print(cb_results_train)\n",
    "print(cb_results_val)"
   ]
  },
  {
   "cell_type": "code",
   "execution_count": null,
   "metadata": {},
   "outputs": [],
   "source": []
  }
 ],
 "metadata": {
  "kernelspec": {
   "display_name": "learn-env",
   "language": "python",
   "name": "learn-env"
  },
  "language_info": {
   "codemirror_mode": {
    "name": "ipython",
    "version": 3
   },
   "file_extension": ".py",
   "mimetype": "text/x-python",
   "name": "python",
   "nbconvert_exporter": "python",
   "pygments_lexer": "ipython3",
   "version": "3.8.5"
  }
 },
 "nbformat": 4,
 "nbformat_minor": 4
}
